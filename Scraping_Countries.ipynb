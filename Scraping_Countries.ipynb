{
  "nbformat": 4,
  "nbformat_minor": 0,
  "metadata": {
    "colab": {
      "provenance": [],
      "authorship_tag": "ABX9TyMnyv2WO91fzHp1lBPBXsum",
      "include_colab_link": true
    },
    "kernelspec": {
      "name": "python3",
      "display_name": "Python 3"
    },
    "language_info": {
      "name": "python"
    }
  },
  "cells": [
    {
      "cell_type": "markdown",
      "metadata": {
        "id": "view-in-github",
        "colab_type": "text"
      },
      "source": [
        "<a href=\"https://colab.research.google.com/github/Neloy-Barman/Basic_Web_Scraping/blob/main/Scraping_Countries.ipynb\" target=\"_parent\"><img src=\"https://colab.research.google.com/assets/colab-badge.svg\" alt=\"Open In Colab\"/></a>"
      ]
    },
    {
      "cell_type": "markdown",
      "source": [
        "# **`Essential imports`**"
      ],
      "metadata": {
        "id": "gMS6VxkBs1pp"
      }
    },
    {
      "cell_type": "code",
      "execution_count": 1,
      "metadata": {
        "id": "JKMEjc9klHXc"
      },
      "outputs": [],
      "source": [
        "import re\n",
        "import bs4\n",
        "import requests\n",
        "import pandas as pd"
      ]
    },
    {
      "cell_type": "markdown",
      "source": [
        "# **`Page url & grabbing source code`**"
      ],
      "metadata": {
        "id": "mb8no-uSs4mi"
      }
    },
    {
      "cell_type": "code",
      "source": [
        "page_url = 'https://www.scrapethissite.com/pages/simple/'\n",
        "\n",
        "response_url = requests.get(page_url)\n",
        "\n",
        "response_text = response_url.text\n",
        "\n",
        "soup = bs4.BeautifulSoup(response_text, 'html.parser')"
      ],
      "metadata": {
        "id": "zvf305bClVWP"
      },
      "execution_count": null,
      "outputs": []
    },
    {
      "cell_type": "markdown",
      "source": [
        "# **`Selection of Country div`**"
      ],
      "metadata": {
        "id": "lZ4QlvGqtHLp"
      }
    },
    {
      "cell_type": "code",
      "source": [
        "Country_div = soup.select('.col-md-4.country')\n",
        "len(Country_div)"
      ],
      "metadata": {
        "colab": {
          "base_uri": "https://localhost:8080/"
        },
        "id": "VkVsgEY_lVZX",
        "outputId": "0cc85e6d-da66-45b0-a792-d938e0342564"
      },
      "execution_count": 9,
      "outputs": [
        {
          "output_type": "execute_result",
          "data": {
            "text/plain": [
              "250"
            ]
          },
          "metadata": {},
          "execution_count": 9
        }
      ]
    },
    {
      "cell_type": "markdown",
      "source": [
        "# **`Discarding spaces & new line.`**"
      ],
      "metadata": {
        "id": "__7-dGiPtLjT"
      }
    },
    {
      "cell_type": "code",
      "source": [
        "def text_only(text):\n",
        "  pattern = re.compile(r'([^\\s\\n]+)')\n",
        "  result = re.findall(pattern, text)\n",
        "  text = ' '.join(result)\n",
        "  return text "
      ],
      "metadata": {
        "id": "F967XHNDp9LO"
      },
      "execution_count": 25,
      "outputs": []
    },
    {
      "cell_type": "markdown",
      "source": [
        "# **`Grabbing informations.`**"
      ],
      "metadata": {
        "id": "EZ5QrBNftTUg"
      }
    },
    {
      "cell_type": "code",
      "source": [
        "c_name = []\n",
        "c_capital = []\n",
        "c_population = []\n",
        "c_area = []\n",
        "\n",
        "for i in range(len(Country_div)):\n",
        "  country_name = Country_div[i].select('.country-name')\n",
        "  text = country_name[0].get_text()\n",
        "  c_name.append(text_only(text))\n",
        "\n",
        "  capital = Country_div[i].select('.country-capital')\n",
        "  text = capital[0].get_text()\n",
        "  c_capital.append(text_only(text))\n",
        "\n",
        "  population = Country_div[i].select('.country-population')\n",
        "  text = population[0].get_text()\n",
        "  c_population.append(text_only(text))\n",
        "\n",
        "  area = Country_div[i].select('.country-area')\n",
        "  text = area[0].get_text()\n",
        "  c_area.append(text_only(text))\n",
        "\n"
      ],
      "metadata": {
        "id": "cv0QpoVmlVkX"
      },
      "execution_count": 36,
      "outputs": []
    },
    {
      "cell_type": "markdown",
      "source": [
        "# **`Passing the informations into the dictionary.`**"
      ],
      "metadata": {
        "id": "zynK04nBtYW6"
      }
    },
    {
      "cell_type": "code",
      "source": [
        "Country = {\n",
        "    'Country Name' : c_name,\n",
        "    'Capital' : c_capital,\n",
        "    'Population' : c_population,\n",
        "    'Area' : c_area\n",
        "}"
      ],
      "metadata": {
        "id": "sJNLrCi5lVnf"
      },
      "execution_count": 41,
      "outputs": []
    },
    {
      "cell_type": "markdown",
      "source": [
        "# **`Passing the dictionary into a dataframe & viewing the frame.`** "
      ],
      "metadata": {
        "id": "_aEv2Ui1teLj"
      }
    },
    {
      "cell_type": "code",
      "source": [
        "ViewFrame = pd.DataFrame(Country)\n",
        "\n",
        "print(f'{ViewFrame}')"
      ],
      "metadata": {
        "colab": {
          "base_uri": "https://localhost:8080/"
        },
        "id": "MFfC40qOlVrn",
        "outputId": "2d3b545c-7648-42d2-f160-5eaa24ca07ae"
      },
      "execution_count": 45,
      "outputs": [
        {
          "output_type": "stream",
          "name": "stdout",
          "text": [
            "             Country Name           Capital Population       Area\n",
            "0                 Andorra  Andorra la Vella      84000      468.0\n",
            "1    United Arab Emirates         Abu Dhabi    4975593    82880.0\n",
            "2             Afghanistan             Kabul   29121286   647500.0\n",
            "3     Antigua and Barbuda        St. John's      86754      443.0\n",
            "4                Anguilla        The Valley      13254      102.0\n",
            "..                    ...               ...        ...        ...\n",
            "245                 Yemen             Sanaa   23495361   527970.0\n",
            "246               Mayotte         Mamoudzou     159042      374.0\n",
            "247          South Africa          Pretoria   49000000  1219912.0\n",
            "248                Zambia            Lusaka   13460305   752614.0\n",
            "249              Zimbabwe            Harare   11651858   390580.0\n",
            "\n",
            "[250 rows x 4 columns]\n"
          ]
        }
      ]
    },
    {
      "cell_type": "code",
      "source": [
        "ViewFrame.head(20)"
      ],
      "metadata": {
        "colab": {
          "base_uri": "https://localhost:8080/",
          "height": 677
        },
        "id": "TMd5XkaOt20C",
        "outputId": "52802c11-ed87-4356-952f-e8dfae7d4455"
      },
      "execution_count": 47,
      "outputs": [
        {
          "output_type": "execute_result",
          "data": {
            "text/plain": [
              "              Country Name           Capital Population       Area\n",
              "0                  Andorra  Andorra la Vella      84000      468.0\n",
              "1     United Arab Emirates         Abu Dhabi    4975593    82880.0\n",
              "2              Afghanistan             Kabul   29121286   647500.0\n",
              "3      Antigua and Barbuda        St. John's      86754      443.0\n",
              "4                 Anguilla        The Valley      13254      102.0\n",
              "5                  Albania            Tirana    2986952    28748.0\n",
              "6                  Armenia           Yerevan    2968000    29800.0\n",
              "7                   Angola            Luanda   13068161  1246700.0\n",
              "8               Antarctica              None          0      1.4E7\n",
              "9                Argentina      Buenos Aires   41343201  2766890.0\n",
              "10          American Samoa         Pago Pago      57881      199.0\n",
              "11                 Austria            Vienna    8205000    83858.0\n",
              "12               Australia          Canberra   21515754  7686850.0\n",
              "13                   Aruba        Oranjestad      71566      193.0\n",
              "14                   Åland         Mariehamn      26711     1580.0\n",
              "15              Azerbaijan              Baku    8303512    86600.0\n",
              "16  Bosnia and Herzegovina          Sarajevo    4590000    51129.0\n",
              "17                Barbados        Bridgetown     285653      431.0\n",
              "18              Bangladesh             Dhaka  156118464   144000.0\n",
              "19                 Belgium          Brussels   10403000    30510.0"
            ],
            "text/html": [
              "\n",
              "  <div id=\"df-a09e2272-28b7-4b62-80a3-8762d65653cf\">\n",
              "    <div class=\"colab-df-container\">\n",
              "      <div>\n",
              "<style scoped>\n",
              "    .dataframe tbody tr th:only-of-type {\n",
              "        vertical-align: middle;\n",
              "    }\n",
              "\n",
              "    .dataframe tbody tr th {\n",
              "        vertical-align: top;\n",
              "    }\n",
              "\n",
              "    .dataframe thead th {\n",
              "        text-align: right;\n",
              "    }\n",
              "</style>\n",
              "<table border=\"1\" class=\"dataframe\">\n",
              "  <thead>\n",
              "    <tr style=\"text-align: right;\">\n",
              "      <th></th>\n",
              "      <th>Country Name</th>\n",
              "      <th>Capital</th>\n",
              "      <th>Population</th>\n",
              "      <th>Area</th>\n",
              "    </tr>\n",
              "  </thead>\n",
              "  <tbody>\n",
              "    <tr>\n",
              "      <th>0</th>\n",
              "      <td>Andorra</td>\n",
              "      <td>Andorra la Vella</td>\n",
              "      <td>84000</td>\n",
              "      <td>468.0</td>\n",
              "    </tr>\n",
              "    <tr>\n",
              "      <th>1</th>\n",
              "      <td>United Arab Emirates</td>\n",
              "      <td>Abu Dhabi</td>\n",
              "      <td>4975593</td>\n",
              "      <td>82880.0</td>\n",
              "    </tr>\n",
              "    <tr>\n",
              "      <th>2</th>\n",
              "      <td>Afghanistan</td>\n",
              "      <td>Kabul</td>\n",
              "      <td>29121286</td>\n",
              "      <td>647500.0</td>\n",
              "    </tr>\n",
              "    <tr>\n",
              "      <th>3</th>\n",
              "      <td>Antigua and Barbuda</td>\n",
              "      <td>St. John's</td>\n",
              "      <td>86754</td>\n",
              "      <td>443.0</td>\n",
              "    </tr>\n",
              "    <tr>\n",
              "      <th>4</th>\n",
              "      <td>Anguilla</td>\n",
              "      <td>The Valley</td>\n",
              "      <td>13254</td>\n",
              "      <td>102.0</td>\n",
              "    </tr>\n",
              "    <tr>\n",
              "      <th>5</th>\n",
              "      <td>Albania</td>\n",
              "      <td>Tirana</td>\n",
              "      <td>2986952</td>\n",
              "      <td>28748.0</td>\n",
              "    </tr>\n",
              "    <tr>\n",
              "      <th>6</th>\n",
              "      <td>Armenia</td>\n",
              "      <td>Yerevan</td>\n",
              "      <td>2968000</td>\n",
              "      <td>29800.0</td>\n",
              "    </tr>\n",
              "    <tr>\n",
              "      <th>7</th>\n",
              "      <td>Angola</td>\n",
              "      <td>Luanda</td>\n",
              "      <td>13068161</td>\n",
              "      <td>1246700.0</td>\n",
              "    </tr>\n",
              "    <tr>\n",
              "      <th>8</th>\n",
              "      <td>Antarctica</td>\n",
              "      <td>None</td>\n",
              "      <td>0</td>\n",
              "      <td>1.4E7</td>\n",
              "    </tr>\n",
              "    <tr>\n",
              "      <th>9</th>\n",
              "      <td>Argentina</td>\n",
              "      <td>Buenos Aires</td>\n",
              "      <td>41343201</td>\n",
              "      <td>2766890.0</td>\n",
              "    </tr>\n",
              "    <tr>\n",
              "      <th>10</th>\n",
              "      <td>American Samoa</td>\n",
              "      <td>Pago Pago</td>\n",
              "      <td>57881</td>\n",
              "      <td>199.0</td>\n",
              "    </tr>\n",
              "    <tr>\n",
              "      <th>11</th>\n",
              "      <td>Austria</td>\n",
              "      <td>Vienna</td>\n",
              "      <td>8205000</td>\n",
              "      <td>83858.0</td>\n",
              "    </tr>\n",
              "    <tr>\n",
              "      <th>12</th>\n",
              "      <td>Australia</td>\n",
              "      <td>Canberra</td>\n",
              "      <td>21515754</td>\n",
              "      <td>7686850.0</td>\n",
              "    </tr>\n",
              "    <tr>\n",
              "      <th>13</th>\n",
              "      <td>Aruba</td>\n",
              "      <td>Oranjestad</td>\n",
              "      <td>71566</td>\n",
              "      <td>193.0</td>\n",
              "    </tr>\n",
              "    <tr>\n",
              "      <th>14</th>\n",
              "      <td>Åland</td>\n",
              "      <td>Mariehamn</td>\n",
              "      <td>26711</td>\n",
              "      <td>1580.0</td>\n",
              "    </tr>\n",
              "    <tr>\n",
              "      <th>15</th>\n",
              "      <td>Azerbaijan</td>\n",
              "      <td>Baku</td>\n",
              "      <td>8303512</td>\n",
              "      <td>86600.0</td>\n",
              "    </tr>\n",
              "    <tr>\n",
              "      <th>16</th>\n",
              "      <td>Bosnia and Herzegovina</td>\n",
              "      <td>Sarajevo</td>\n",
              "      <td>4590000</td>\n",
              "      <td>51129.0</td>\n",
              "    </tr>\n",
              "    <tr>\n",
              "      <th>17</th>\n",
              "      <td>Barbados</td>\n",
              "      <td>Bridgetown</td>\n",
              "      <td>285653</td>\n",
              "      <td>431.0</td>\n",
              "    </tr>\n",
              "    <tr>\n",
              "      <th>18</th>\n",
              "      <td>Bangladesh</td>\n",
              "      <td>Dhaka</td>\n",
              "      <td>156118464</td>\n",
              "      <td>144000.0</td>\n",
              "    </tr>\n",
              "    <tr>\n",
              "      <th>19</th>\n",
              "      <td>Belgium</td>\n",
              "      <td>Brussels</td>\n",
              "      <td>10403000</td>\n",
              "      <td>30510.0</td>\n",
              "    </tr>\n",
              "  </tbody>\n",
              "</table>\n",
              "</div>\n",
              "      <button class=\"colab-df-convert\" onclick=\"convertToInteractive('df-a09e2272-28b7-4b62-80a3-8762d65653cf')\"\n",
              "              title=\"Convert this dataframe to an interactive table.\"\n",
              "              style=\"display:none;\">\n",
              "        \n",
              "  <svg xmlns=\"http://www.w3.org/2000/svg\" height=\"24px\"viewBox=\"0 0 24 24\"\n",
              "       width=\"24px\">\n",
              "    <path d=\"M0 0h24v24H0V0z\" fill=\"none\"/>\n",
              "    <path d=\"M18.56 5.44l.94 2.06.94-2.06 2.06-.94-2.06-.94-.94-2.06-.94 2.06-2.06.94zm-11 1L8.5 8.5l.94-2.06 2.06-.94-2.06-.94L8.5 2.5l-.94 2.06-2.06.94zm10 10l.94 2.06.94-2.06 2.06-.94-2.06-.94-.94-2.06-.94 2.06-2.06.94z\"/><path d=\"M17.41 7.96l-1.37-1.37c-.4-.4-.92-.59-1.43-.59-.52 0-1.04.2-1.43.59L10.3 9.45l-7.72 7.72c-.78.78-.78 2.05 0 2.83L4 21.41c.39.39.9.59 1.41.59.51 0 1.02-.2 1.41-.59l7.78-7.78 2.81-2.81c.8-.78.8-2.07 0-2.86zM5.41 20L4 18.59l7.72-7.72 1.47 1.35L5.41 20z\"/>\n",
              "  </svg>\n",
              "      </button>\n",
              "      \n",
              "  <style>\n",
              "    .colab-df-container {\n",
              "      display:flex;\n",
              "      flex-wrap:wrap;\n",
              "      gap: 12px;\n",
              "    }\n",
              "\n",
              "    .colab-df-convert {\n",
              "      background-color: #E8F0FE;\n",
              "      border: none;\n",
              "      border-radius: 50%;\n",
              "      cursor: pointer;\n",
              "      display: none;\n",
              "      fill: #1967D2;\n",
              "      height: 32px;\n",
              "      padding: 0 0 0 0;\n",
              "      width: 32px;\n",
              "    }\n",
              "\n",
              "    .colab-df-convert:hover {\n",
              "      background-color: #E2EBFA;\n",
              "      box-shadow: 0px 1px 2px rgba(60, 64, 67, 0.3), 0px 1px 3px 1px rgba(60, 64, 67, 0.15);\n",
              "      fill: #174EA6;\n",
              "    }\n",
              "\n",
              "    [theme=dark] .colab-df-convert {\n",
              "      background-color: #3B4455;\n",
              "      fill: #D2E3FC;\n",
              "    }\n",
              "\n",
              "    [theme=dark] .colab-df-convert:hover {\n",
              "      background-color: #434B5C;\n",
              "      box-shadow: 0px 1px 3px 1px rgba(0, 0, 0, 0.15);\n",
              "      filter: drop-shadow(0px 1px 2px rgba(0, 0, 0, 0.3));\n",
              "      fill: #FFFFFF;\n",
              "    }\n",
              "  </style>\n",
              "\n",
              "      <script>\n",
              "        const buttonEl =\n",
              "          document.querySelector('#df-a09e2272-28b7-4b62-80a3-8762d65653cf button.colab-df-convert');\n",
              "        buttonEl.style.display =\n",
              "          google.colab.kernel.accessAllowed ? 'block' : 'none';\n",
              "\n",
              "        async function convertToInteractive(key) {\n",
              "          const element = document.querySelector('#df-a09e2272-28b7-4b62-80a3-8762d65653cf');\n",
              "          const dataTable =\n",
              "            await google.colab.kernel.invokeFunction('convertToInteractive',\n",
              "                                                     [key], {});\n",
              "          if (!dataTable) return;\n",
              "\n",
              "          const docLinkHtml = 'Like what you see? Visit the ' +\n",
              "            '<a target=\"_blank\" href=https://colab.research.google.com/notebooks/data_table.ipynb>data table notebook</a>'\n",
              "            + ' to learn more about interactive tables.';\n",
              "          element.innerHTML = '';\n",
              "          dataTable['output_type'] = 'display_data';\n",
              "          await google.colab.output.renderOutput(dataTable, element);\n",
              "          const docLink = document.createElement('div');\n",
              "          docLink.innerHTML = docLinkHtml;\n",
              "          element.appendChild(docLink);\n",
              "        }\n",
              "      </script>\n",
              "    </div>\n",
              "  </div>\n",
              "  "
            ]
          },
          "metadata": {},
          "execution_count": 47
        }
      ]
    }
  ]
}