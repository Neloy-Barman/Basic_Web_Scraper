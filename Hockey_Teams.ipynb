{
  "nbformat": 4,
  "nbformat_minor": 0,
  "metadata": {
    "colab": {
      "provenance": []
    },
    "kernelspec": {
      "name": "python3",
      "display_name": "Python 3"
    },
    "language_info": {
      "name": "python"
    }
  },
  "cells": [
    {
      "cell_type": "code",
      "execution_count": null,
      "metadata": {
        "id": "wc-Dq1C8v_ou"
      },
      "outputs": [],
      "source": [
        "import pandas as pd\n",
        "import requests\n",
        "import bs4\n",
        "import re"
      ]
    },
    {
      "cell_type": "code",
      "source": [
        "response_page = requests.get('http://www.scrapethissite.com/pages/forms/')\n",
        "\n",
        "response_text = response_page.text\n",
        "\n",
        "soup = bs4.BeautifulSoup(response_text, 'html.parser')\n",
        "\n",
        "print(f\"{soup}\")"
      ],
      "metadata": {
        "id": "SyUAy9sLwMey"
      },
      "execution_count": null,
      "outputs": []
    },
    {
      "cell_type": "code",
      "source": [
        "team = soup.select('.team')\n",
        "\n",
        "len(team)"
      ],
      "metadata": {
        "colab": {
          "base_uri": "https://localhost:8080/"
        },
        "id": "XrTHpOkKwMik",
        "outputId": "725472a9-9a25-420e-bb91-ccfb201259a7"
      },
      "execution_count": null,
      "outputs": [
        {
          "output_type": "execute_result",
          "data": {
            "text/plain": [
              "25"
            ]
          },
          "metadata": {},
          "execution_count": 20
        }
      ]
    },
    {
      "cell_type": "code",
      "source": [
        "team[1]"
      ],
      "metadata": {
        "colab": {
          "base_uri": "https://localhost:8080/"
        },
        "id": "eyZVqVj3wMmt",
        "outputId": "2b1dec2e-3926-42c8-a2cd-fb0060701d96"
      },
      "execution_count": null,
      "outputs": [
        {
          "output_type": "execute_result",
          "data": {
            "text/plain": [
              "<tr class=\"team\">\n",
              "<td class=\"name\">\n",
              "                            Buffalo Sabres\n",
              "                        </td>\n",
              "<td class=\"year\">\n",
              "                            1990\n",
              "                        </td>\n",
              "<td class=\"wins\">\n",
              "                            31\n",
              "                        </td>\n",
              "<td class=\"losses\">\n",
              "                            30\n",
              "                        </td>\n",
              "<td class=\"ot-losses\">\n",
              "</td>\n",
              "<td class=\"pct text-danger\">\n",
              "                            0.388\n",
              "                        </td>\n",
              "<td class=\"gf\">\n",
              "                            292\n",
              "                        </td>\n",
              "<td class=\"ga\">\n",
              "                            278\n",
              "                        </td>\n",
              "<td class=\"diff text-success\">\n",
              "                            14\n",
              "                        </td>\n",
              "</tr>"
            ]
          },
          "metadata": {},
          "execution_count": 46
        }
      ]
    },
    {
      "cell_type": "code",
      "source": [
        "team_name = team[0].select('.name')[0].get_text()\n",
        "team_name"
      ],
      "metadata": {
        "colab": {
          "base_uri": "https://localhost:8080/",
          "height": 35
        },
        "id": "IEa8QMvywMpz",
        "outputId": "63633068-ed59-456e-c73e-91b6fa92ddd3"
      },
      "execution_count": null,
      "outputs": [
        {
          "output_type": "execute_result",
          "data": {
            "text/plain": [
              "'\\n                            New York Islanders\\n                        '"
            ],
            "application/vnd.google.colaboratory.intrinsic+json": {
              "type": "string"
            }
          },
          "metadata": {},
          "execution_count": 157
        }
      ]
    },
    {
      "cell_type": "code",
      "source": [
        "team_year = team[0].select('.year')[0].get_text()\n",
        "team_year"
      ],
      "metadata": {
        "colab": {
          "base_uri": "https://localhost:8080/",
          "height": 35
        },
        "id": "M7_1UHTywMtc",
        "outputId": "613b0084-87da-4b9e-bda4-6cf38ca7ad9b"
      },
      "execution_count": null,
      "outputs": [
        {
          "output_type": "execute_result",
          "data": {
            "text/plain": [
              "'\\n                            1990\\n                        '"
            ],
            "application/vnd.google.colaboratory.intrinsic+json": {
              "type": "string"
            }
          },
          "metadata": {},
          "execution_count": 27
        }
      ]
    },
    {
      "cell_type": "code",
      "source": [
        "team_wins = team[0].select('.wins')[0].get_text()\n",
        "team_wins"
      ],
      "metadata": {
        "colab": {
          "base_uri": "https://localhost:8080/",
          "height": 35
        },
        "id": "ywQrz7AAwMw8",
        "outputId": "4c714508-d1d0-4552-ebc9-00d4e644b21c"
      },
      "execution_count": null,
      "outputs": [
        {
          "output_type": "execute_result",
          "data": {
            "text/plain": [
              "'\\n                            44\\n                        '"
            ],
            "application/vnd.google.colaboratory.intrinsic+json": {
              "type": "string"
            }
          },
          "metadata": {},
          "execution_count": 26
        }
      ]
    },
    {
      "cell_type": "code",
      "source": [
        "team_losses = team[0].select('.losses')[0].get_text()\n",
        "team_losses"
      ],
      "metadata": {
        "id": "l-o-H1_mwM0T"
      },
      "execution_count": null,
      "outputs": []
    },
    {
      "cell_type": "code",
      "source": [
        "team_ot_losees = team[0].select('.ot-losses')[0].get_text()\n",
        "team_ot_losees"
      ],
      "metadata": {
        "colab": {
          "base_uri": "https://localhost:8080/",
          "height": 35
        },
        "id": "JMxmqyz9wM30",
        "outputId": "4fe6bc82-55c7-46c9-8d6c-d1976ea05935"
      },
      "execution_count": null,
      "outputs": [
        {
          "output_type": "execute_result",
          "data": {
            "text/plain": [
              "'\\n'"
            ],
            "application/vnd.google.colaboratory.intrinsic+json": {
              "type": "string"
            }
          },
          "metadata": {},
          "execution_count": 67
        }
      ]
    },
    {
      "cell_type": "code",
      "source": [
        "team_pct = team[0].select('.pct')[0].get_text()\n",
        "team_pct"
      ],
      "metadata": {
        "colab": {
          "base_uri": "https://localhost:8080/",
          "height": 35
        },
        "id": "q23rn_HZzn2v",
        "outputId": "57095978-4151-4076-c586-e2967d0a9657"
      },
      "execution_count": null,
      "outputs": [
        {
          "output_type": "execute_result",
          "data": {
            "text/plain": [
              "'\\n                            0.55\\n                        '"
            ],
            "application/vnd.google.colaboratory.intrinsic+json": {
              "type": "string"
            }
          },
          "metadata": {},
          "execution_count": 68
        }
      ]
    },
    {
      "cell_type": "code",
      "source": [
        "team_gf = team[0].select('.gf')[0].get_text()\n",
        "team_gf"
      ],
      "metadata": {
        "id": "iYa0gP_kwM7c"
      },
      "execution_count": null,
      "outputs": []
    },
    {
      "cell_type": "code",
      "source": [
        "team_ga = team[0].select('.ga')[0].get_text()\n",
        "team_ga"
      ],
      "metadata": {
        "id": "BbwPw22_wM_O"
      },
      "execution_count": null,
      "outputs": []
    },
    {
      "cell_type": "code",
      "source": [
        "team_diff = team[0].select('.diff')[0].get_text()\n",
        "team_diff"
      ],
      "metadata": {
        "colab": {
          "base_uri": "https://localhost:8080/",
          "height": 35
        },
        "id": "yWWPlIwBwNDE",
        "outputId": "bf139f3d-8eac-4372-f304-ac80068a23ba"
      },
      "execution_count": null,
      "outputs": [
        {
          "output_type": "execute_result",
          "data": {
            "text/plain": [
              "'\\n                            35\\n                        '"
            ],
            "application/vnd.google.colaboratory.intrinsic+json": {
              "type": "string"
            }
          },
          "metadata": {},
          "execution_count": 66
        }
      ]
    },
    {
      "cell_type": "code",
      "source": [
        "pagination_base_url = 'http://www.scrapethissite.com/pages/forms/?page_num={}'\n",
        "\n",
        "page_no = input('Page No. between 1-24: ')\n",
        "\n",
        "site_url = pagination_base_url.format(page_no)\n",
        "\n",
        "response_page = requests.get(site_url)\n",
        "\n",
        "response_text = response_page.text\n",
        "\n",
        "soup = bs4.BeautifulSoup(response_text, 'html.parser')\n",
        "\n",
        "team = soup.select('.team')"
      ],
      "metadata": {
        "colab": {
          "base_uri": "https://localhost:8080/"
        },
        "id": "NxVGKvsNFP8c",
        "outputId": "8956f701-fc38-4b2a-f16d-2542ae8d9786"
      },
      "execution_count": null,
      "outputs": [
        {
          "name": "stdout",
          "output_type": "stream",
          "text": [
            "Page No. between 1-24: 18\n"
          ]
        }
      ]
    },
    {
      "cell_type": "code",
      "source": [
        "def numerics(text):\n",
        "  numeric_pattern = re.compile(r'([^\\n]+)')\n",
        "  result = re.findall(numeric_pattern, text)\n",
        "  return result[0]"
      ],
      "metadata": {
        "id": "QoIGoUVm7pop"
      },
      "execution_count": null,
      "outputs": []
    },
    {
      "cell_type": "code",
      "source": [
        "def alphabetic(text): \n",
        "  name_pattern = re.compile(r'([^\\s\\n]+)')\n",
        "  result = re.findall(name_pattern, text)\n",
        "  name = ' '.join(result)\n",
        "  return name"
      ],
      "metadata": {
        "id": "zNo84TXN_Il1"
      },
      "execution_count": null,
      "outputs": []
    },
    {
      "cell_type": "code",
      "source": [
        "\n",
        "name=[]\n",
        "year=[]\n",
        "wins=[]\n",
        "losses=[]\n",
        "ot_losses=[]\n",
        "pct=[]\n",
        "gf=[]\n",
        "ga=[]\n",
        "diff=[]\n",
        "\n",
        "for i in range(len(team)):\n",
        "\n",
        "  text = team[i].select('.name')[0].get_text()\n",
        "  name.append(alphabetic(text))\n",
        "\n",
        "  text = team[i].select('.year')[0].get_text()\n",
        "  year.append(numerics(text))\n",
        "\n",
        "  text = team[i].select('.wins')[0].get_text()\n",
        "  wins.append(numerics(text))\n",
        "\n",
        "  text = team[i].select('.losses')[0].get_text()\n",
        "  losses.append(numerics(text))\n",
        "  \n",
        "  ot = team[i].select('.ot-losses')[0].get_text()\n",
        "  \n",
        "  if ot == '\\n':\n",
        "    ot_losses.append(None)\n",
        "  else:\n",
        "    text = team[i].select('.ot-losses')[0].get_text()\n",
        "    ot_losses.append(numerics(text))\n",
        "\n",
        "  text = team[i].select('.pct')[0].get_text()\n",
        "  pct.append(numerics(text))\n",
        "\n",
        "  text = team[i].select('.gf')[0].get_text()\n",
        "  gf.append(numerics(text))\n",
        "\n",
        "  text = team[i].select('.ga')[0].get_text()\n",
        "  ga.append(numerics(text))\n",
        "\n",
        "  text = team[i].select('.diff')[0].get_text()\n",
        "  diff.append(numerics(text))\n"
      ],
      "metadata": {
        "id": "8fUOhB4azHBo"
      },
      "execution_count": null,
      "outputs": []
    },
    {
      "cell_type": "code",
      "source": [
        "Informations = {\n",
        "    'Team name': name,\n",
        "    'Year': year,\n",
        "    'Wins': wins,\n",
        "    'Losses': losses,\n",
        "    'OT Losses': ot_losses,\n",
        "    'Win %': pct,\n",
        "    'Goals For': gf,\n",
        "    'Goals Against': ga,\n",
        "    '+/-': diff\n",
        "}\n"
      ],
      "metadata": {
        "id": "kOGco_ig4eys"
      },
      "execution_count": null,
      "outputs": []
    },
    {
      "cell_type": "code",
      "source": [
        "Dataframe = pd.DataFrame(Informations)\n",
        "Dataframe"
      ],
      "metadata": {
        "colab": {
          "base_uri": "https://localhost:8080/",
          "height": 503
        },
        "id": "Ox_pzoPq5MOo",
        "outputId": "3fa19db8-179f-4d73-9d35-12a374dff803"
      },
      "execution_count": null,
      "outputs": [
        {
          "output_type": "execute_result",
          "data": {
            "text/plain": [
              "                             Team name                               Year  \\\n",
              "0                  Pittsburgh Penguins                Pittsburgh Penguins   \n",
              "1                                 2006                               2006   \n",
              "2                                   47                                 47   \n",
              "3                                   24                                 24   \n",
              "4                                   11                                 11   \n",
              "..                                 ...                                ...   \n",
              "220                                  7                                  7   \n",
              "221                              0.561                              0.561   \n",
              "222                                206                                206   \n",
              "223                                197                                197   \n",
              "224                                  9                                  9   \n",
              "\n",
              "                                  Wins                             Losses  \\\n",
              "0                  Pittsburgh Penguins                Pittsburgh Penguins   \n",
              "1                                 2006                               2006   \n",
              "2                                   47                                 47   \n",
              "3                                   24                                 24   \n",
              "4                                   11                                 11   \n",
              "..                                 ...                                ...   \n",
              "220                                  7                                  7   \n",
              "221                              0.561                              0.561   \n",
              "222                                206                                206   \n",
              "223                                197                                197   \n",
              "224                                  9                                  9   \n",
              "\n",
              "                             OT Losses                              Win %  \\\n",
              "0                  Pittsburgh Penguins                Pittsburgh Penguins   \n",
              "1                                 2006                               2006   \n",
              "2                                   47                                 47   \n",
              "3                                   24                                 24   \n",
              "4                                   11                                 11   \n",
              "..                                 ...                                ...   \n",
              "220                                  7                                  7   \n",
              "221                              0.561                              0.561   \n",
              "222                                206                                206   \n",
              "223                                197                                197   \n",
              "224                                  9                                  9   \n",
              "\n",
              "                             Goals For                      Goals Against  \\\n",
              "0                  Pittsburgh Penguins                Pittsburgh Penguins   \n",
              "1                                 2006                               2006   \n",
              "2                                   47                                 47   \n",
              "3                                   24                                 24   \n",
              "4                                   11                                 11   \n",
              "..                                 ...                                ...   \n",
              "220                                  7                                  7   \n",
              "221                              0.561                              0.561   \n",
              "222                                206                                206   \n",
              "223                                197                                197   \n",
              "224                                  9                                  9   \n",
              "\n",
              "                                   +/-  \n",
              "0                  Pittsburgh Penguins  \n",
              "1                                 2006  \n",
              "2                                   47  \n",
              "3                                   24  \n",
              "4                                   11  \n",
              "..                                 ...  \n",
              "220                                  7  \n",
              "221                              0.561  \n",
              "222                                206  \n",
              "223                                197  \n",
              "224                                  9  \n",
              "\n",
              "[225 rows x 9 columns]"
            ],
            "text/html": [
              "\n",
              "  <div id=\"df-0d72b10c-fe34-4144-aef8-73876e0bdf21\">\n",
              "    <div class=\"colab-df-container\">\n",
              "      <div>\n",
              "<style scoped>\n",
              "    .dataframe tbody tr th:only-of-type {\n",
              "        vertical-align: middle;\n",
              "    }\n",
              "\n",
              "    .dataframe tbody tr th {\n",
              "        vertical-align: top;\n",
              "    }\n",
              "\n",
              "    .dataframe thead th {\n",
              "        text-align: right;\n",
              "    }\n",
              "</style>\n",
              "<table border=\"1\" class=\"dataframe\">\n",
              "  <thead>\n",
              "    <tr style=\"text-align: right;\">\n",
              "      <th></th>\n",
              "      <th>Team name</th>\n",
              "      <th>Year</th>\n",
              "      <th>Wins</th>\n",
              "      <th>Losses</th>\n",
              "      <th>OT Losses</th>\n",
              "      <th>Win %</th>\n",
              "      <th>Goals For</th>\n",
              "      <th>Goals Against</th>\n",
              "      <th>+/-</th>\n",
              "    </tr>\n",
              "  </thead>\n",
              "  <tbody>\n",
              "    <tr>\n",
              "      <th>0</th>\n",
              "      <td>Pittsburgh Penguins</td>\n",
              "      <td>Pittsburgh Penguins</td>\n",
              "      <td>Pittsburgh Penguins</td>\n",
              "      <td>Pittsburgh Penguins</td>\n",
              "      <td>Pittsburgh Penguins</td>\n",
              "      <td>Pittsburgh Penguins</td>\n",
              "      <td>Pittsburgh Penguins</td>\n",
              "      <td>Pittsburgh Penguins</td>\n",
              "      <td>Pittsburgh Penguins</td>\n",
              "    </tr>\n",
              "    <tr>\n",
              "      <th>1</th>\n",
              "      <td>2006</td>\n",
              "      <td>2006</td>\n",
              "      <td>2006</td>\n",
              "      <td>2006</td>\n",
              "      <td>2006</td>\n",
              "      <td>2006</td>\n",
              "      <td>2006</td>\n",
              "      <td>2006</td>\n",
              "      <td>2006</td>\n",
              "    </tr>\n",
              "    <tr>\n",
              "      <th>2</th>\n",
              "      <td>47</td>\n",
              "      <td>47</td>\n",
              "      <td>47</td>\n",
              "      <td>47</td>\n",
              "      <td>47</td>\n",
              "      <td>47</td>\n",
              "      <td>47</td>\n",
              "      <td>47</td>\n",
              "      <td>47</td>\n",
              "    </tr>\n",
              "    <tr>\n",
              "      <th>3</th>\n",
              "      <td>24</td>\n",
              "      <td>24</td>\n",
              "      <td>24</td>\n",
              "      <td>24</td>\n",
              "      <td>24</td>\n",
              "      <td>24</td>\n",
              "      <td>24</td>\n",
              "      <td>24</td>\n",
              "      <td>24</td>\n",
              "    </tr>\n",
              "    <tr>\n",
              "      <th>4</th>\n",
              "      <td>11</td>\n",
              "      <td>11</td>\n",
              "      <td>11</td>\n",
              "      <td>11</td>\n",
              "      <td>11</td>\n",
              "      <td>11</td>\n",
              "      <td>11</td>\n",
              "      <td>11</td>\n",
              "      <td>11</td>\n",
              "    </tr>\n",
              "    <tr>\n",
              "      <th>...</th>\n",
              "      <td>...</td>\n",
              "      <td>...</td>\n",
              "      <td>...</td>\n",
              "      <td>...</td>\n",
              "      <td>...</td>\n",
              "      <td>...</td>\n",
              "      <td>...</td>\n",
              "      <td>...</td>\n",
              "      <td>...</td>\n",
              "    </tr>\n",
              "    <tr>\n",
              "      <th>220</th>\n",
              "      <td>7</td>\n",
              "      <td>7</td>\n",
              "      <td>7</td>\n",
              "      <td>7</td>\n",
              "      <td>7</td>\n",
              "      <td>7</td>\n",
              "      <td>7</td>\n",
              "      <td>7</td>\n",
              "      <td>7</td>\n",
              "    </tr>\n",
              "    <tr>\n",
              "      <th>221</th>\n",
              "      <td>0.561</td>\n",
              "      <td>0.561</td>\n",
              "      <td>0.561</td>\n",
              "      <td>0.561</td>\n",
              "      <td>0.561</td>\n",
              "      <td>0.561</td>\n",
              "      <td>0.561</td>\n",
              "      <td>0.561</td>\n",
              "      <td>0.561</td>\n",
              "    </tr>\n",
              "    <tr>\n",
              "      <th>222</th>\n",
              "      <td>206</td>\n",
              "      <td>206</td>\n",
              "      <td>206</td>\n",
              "      <td>206</td>\n",
              "      <td>206</td>\n",
              "      <td>206</td>\n",
              "      <td>206</td>\n",
              "      <td>206</td>\n",
              "      <td>206</td>\n",
              "    </tr>\n",
              "    <tr>\n",
              "      <th>223</th>\n",
              "      <td>197</td>\n",
              "      <td>197</td>\n",
              "      <td>197</td>\n",
              "      <td>197</td>\n",
              "      <td>197</td>\n",
              "      <td>197</td>\n",
              "      <td>197</td>\n",
              "      <td>197</td>\n",
              "      <td>197</td>\n",
              "    </tr>\n",
              "    <tr>\n",
              "      <th>224</th>\n",
              "      <td>9</td>\n",
              "      <td>9</td>\n",
              "      <td>9</td>\n",
              "      <td>9</td>\n",
              "      <td>9</td>\n",
              "      <td>9</td>\n",
              "      <td>9</td>\n",
              "      <td>9</td>\n",
              "      <td>9</td>\n",
              "    </tr>\n",
              "  </tbody>\n",
              "</table>\n",
              "<p>225 rows × 9 columns</p>\n",
              "</div>\n",
              "      <button class=\"colab-df-convert\" onclick=\"convertToInteractive('df-0d72b10c-fe34-4144-aef8-73876e0bdf21')\"\n",
              "              title=\"Convert this dataframe to an interactive table.\"\n",
              "              style=\"display:none;\">\n",
              "        \n",
              "  <svg xmlns=\"http://www.w3.org/2000/svg\" height=\"24px\"viewBox=\"0 0 24 24\"\n",
              "       width=\"24px\">\n",
              "    <path d=\"M0 0h24v24H0V0z\" fill=\"none\"/>\n",
              "    <path d=\"M18.56 5.44l.94 2.06.94-2.06 2.06-.94-2.06-.94-.94-2.06-.94 2.06-2.06.94zm-11 1L8.5 8.5l.94-2.06 2.06-.94-2.06-.94L8.5 2.5l-.94 2.06-2.06.94zm10 10l.94 2.06.94-2.06 2.06-.94-2.06-.94-.94-2.06-.94 2.06-2.06.94z\"/><path d=\"M17.41 7.96l-1.37-1.37c-.4-.4-.92-.59-1.43-.59-.52 0-1.04.2-1.43.59L10.3 9.45l-7.72 7.72c-.78.78-.78 2.05 0 2.83L4 21.41c.39.39.9.59 1.41.59.51 0 1.02-.2 1.41-.59l7.78-7.78 2.81-2.81c.8-.78.8-2.07 0-2.86zM5.41 20L4 18.59l7.72-7.72 1.47 1.35L5.41 20z\"/>\n",
              "  </svg>\n",
              "      </button>\n",
              "      \n",
              "  <style>\n",
              "    .colab-df-container {\n",
              "      display:flex;\n",
              "      flex-wrap:wrap;\n",
              "      gap: 12px;\n",
              "    }\n",
              "\n",
              "    .colab-df-convert {\n",
              "      background-color: #E8F0FE;\n",
              "      border: none;\n",
              "      border-radius: 50%;\n",
              "      cursor: pointer;\n",
              "      display: none;\n",
              "      fill: #1967D2;\n",
              "      height: 32px;\n",
              "      padding: 0 0 0 0;\n",
              "      width: 32px;\n",
              "    }\n",
              "\n",
              "    .colab-df-convert:hover {\n",
              "      background-color: #E2EBFA;\n",
              "      box-shadow: 0px 1px 2px rgba(60, 64, 67, 0.3), 0px 1px 3px 1px rgba(60, 64, 67, 0.15);\n",
              "      fill: #174EA6;\n",
              "    }\n",
              "\n",
              "    [theme=dark] .colab-df-convert {\n",
              "      background-color: #3B4455;\n",
              "      fill: #D2E3FC;\n",
              "    }\n",
              "\n",
              "    [theme=dark] .colab-df-convert:hover {\n",
              "      background-color: #434B5C;\n",
              "      box-shadow: 0px 1px 3px 1px rgba(0, 0, 0, 0.15);\n",
              "      filter: drop-shadow(0px 1px 2px rgba(0, 0, 0, 0.3));\n",
              "      fill: #FFFFFF;\n",
              "    }\n",
              "  </style>\n",
              "\n",
              "      <script>\n",
              "        const buttonEl =\n",
              "          document.querySelector('#df-0d72b10c-fe34-4144-aef8-73876e0bdf21 button.colab-df-convert');\n",
              "        buttonEl.style.display =\n",
              "          google.colab.kernel.accessAllowed ? 'block' : 'none';\n",
              "\n",
              "        async function convertToInteractive(key) {\n",
              "          const element = document.querySelector('#df-0d72b10c-fe34-4144-aef8-73876e0bdf21');\n",
              "          const dataTable =\n",
              "            await google.colab.kernel.invokeFunction('convertToInteractive',\n",
              "                                                     [key], {});\n",
              "          if (!dataTable) return;\n",
              "\n",
              "          const docLinkHtml = 'Like what you see? Visit the ' +\n",
              "            '<a target=\"_blank\" href=https://colab.research.google.com/notebooks/data_table.ipynb>data table notebook</a>'\n",
              "            + ' to learn more about interactive tables.';\n",
              "          element.innerHTML = '';\n",
              "          dataTable['output_type'] = 'display_data';\n",
              "          await google.colab.output.renderOutput(dataTable, element);\n",
              "          const docLink = document.createElement('div');\n",
              "          docLink.innerHTML = docLinkHtml;\n",
              "          element.appendChild(docLink);\n",
              "        }\n",
              "      </script>\n",
              "    </div>\n",
              "  </div>\n",
              "  "
            ]
          },
          "metadata": {},
          "execution_count": 126
        }
      ]
    },
    {
      "cell_type": "code",
      "source": [
        "for i in range(5):\n",
        "  print(f\"{team[i].select('.pct')[0].get_text()}\")"
      ],
      "metadata": {
        "colab": {
          "base_uri": "https://localhost:8080/"
        },
        "id": "OOxM954cz3mo",
        "outputId": "744971c5-5563-4ce2-9b09-c2803f84b530"
      },
      "execution_count": null,
      "outputs": [
        {
          "output_type": "stream",
          "name": "stdout",
          "text": [
            "\n",
            "                            0.55\n",
            "                        \n",
            "\n",
            "                            0.388\n",
            "                        \n",
            "\n",
            "                            0.575\n",
            "                        \n",
            "\n",
            "                            0.613\n",
            "                        \n",
            "\n",
            "                            0.425\n",
            "                        \n"
          ]
        }
      ]
    },
    {
      "cell_type": "code",
      "source": [
        "print(f\"{team[2].select('.pct')[0].get_text()}\")"
      ],
      "metadata": {
        "colab": {
          "base_uri": "https://localhost:8080/"
        },
        "id": "6JBW6_pez3p2",
        "outputId": "520a3d38-2952-4695-b780-00e8edf3e289"
      },
      "execution_count": null,
      "outputs": [
        {
          "output_type": "stream",
          "name": "stdout",
          "text": [
            "\n",
            "                            0.575\n",
            "                        \n"
          ]
        }
      ]
    },
    {
      "cell_type": "code",
      "source": [
        "team[2]"
      ],
      "metadata": {
        "colab": {
          "base_uri": "https://localhost:8080/"
        },
        "id": "jUZCUa5zz3tn",
        "outputId": "03cca5a1-759d-4ee6-dca0-4204227946ec"
      },
      "execution_count": null,
      "outputs": [
        {
          "output_type": "execute_result",
          "data": {
            "text/plain": [
              "<tr class=\"team\">\n",
              "<td class=\"name\">\n",
              "                            Calgary Flames\n",
              "                        </td>\n",
              "<td class=\"year\">\n",
              "                            1990\n",
              "                        </td>\n",
              "<td class=\"wins\">\n",
              "                            46\n",
              "                        </td>\n",
              "<td class=\"losses\">\n",
              "                            26\n",
              "                        </td>\n",
              "<td class=\"ot-losses\">\n",
              "</td>\n",
              "<td class=\"pct text-success\">\n",
              "                            0.575\n",
              "                        </td>\n",
              "<td class=\"gf\">\n",
              "                            344\n",
              "                        </td>\n",
              "<td class=\"ga\">\n",
              "                            263\n",
              "                        </td>\n",
              "<td class=\"diff text-success\">\n",
              "                            81\n",
              "                        </td>\n",
              "</tr>"
            ]
          },
          "metadata": {},
          "execution_count": 58
        }
      ]
    },
    {
      "cell_type": "code",
      "source": [
        "name_pattern = re.compile(r'([^\\s\\n]+)')\n",
        "text = '\\n                         Boston Bruins\\n             '\n",
        "result = re.findall(name_pattern, text)"
      ],
      "metadata": {
        "id": "qGO0p0K9z5e5"
      },
      "execution_count": null,
      "outputs": []
    },
    {
      "cell_type": "code",
      "source": [
        "text = ' '.join(result)\n",
        "# print(f'{' '.join(result)}')"
      ],
      "metadata": {
        "id": "4DkiOBolz5ko"
      },
      "execution_count": null,
      "outputs": []
    },
    {
      "cell_type": "code",
      "source": [
        "Dataframe['OT Losses'].astype(int)"
      ],
      "metadata": {
        "colab": {
          "base_uri": "https://localhost:8080/",
          "height": 229
        },
        "id": "DAh7004dz4bx",
        "outputId": "c9ac807f-bb9c-4aa1-cb47-a929518ff56e"
      },
      "execution_count": null,
      "outputs": [
        {
          "output_type": "error",
          "ename": "TypeError",
          "evalue": "ignored",
          "traceback": [
            "\u001b[0;31m---------------------------------------------------------------------------\u001b[0m",
            "\u001b[0;31mTypeError\u001b[0m                                 Traceback (most recent call last)",
            "\u001b[0;32m<ipython-input-101-e81f12513198>\u001b[0m in \u001b[0;36m<module>\u001b[0;34m\u001b[0m\n\u001b[0;32m----> 1\u001b[0;31m \u001b[0mDataframe\u001b[0m\u001b[0;34m[\u001b[0m\u001b[0;34m'OT Losses'\u001b[0m\u001b[0;34m]\u001b[0m\u001b[0;34m.\u001b[0m\u001b[0mastype\u001b[0m\u001b[0;34m(\u001b[0m\u001b[0mint\u001b[0m\u001b[0;34m)\u001b[0m\u001b[0;34m\u001b[0m\u001b[0;34m\u001b[0m\u001b[0m\n\u001b[0m",
            "\u001b[0;32m/usr/local/lib/python3.7/dist-packages/pandas/core/generic.py\u001b[0m in \u001b[0;36mastype\u001b[0;34m(self, dtype, copy, errors)\u001b[0m\n\u001b[1;32m   5813\u001b[0m         \u001b[0;32melse\u001b[0m\u001b[0;34m:\u001b[0m\u001b[0;34m\u001b[0m\u001b[0;34m\u001b[0m\u001b[0m\n\u001b[1;32m   5814\u001b[0m             \u001b[0;31m# else, only a single dtype is given\u001b[0m\u001b[0;34m\u001b[0m\u001b[0;34m\u001b[0m\u001b[0;34m\u001b[0m\u001b[0m\n\u001b[0;32m-> 5815\u001b[0;31m             \u001b[0mnew_data\u001b[0m \u001b[0;34m=\u001b[0m \u001b[0mself\u001b[0m\u001b[0;34m.\u001b[0m\u001b[0m_mgr\u001b[0m\u001b[0;34m.\u001b[0m\u001b[0mastype\u001b[0m\u001b[0;34m(\u001b[0m\u001b[0mdtype\u001b[0m\u001b[0;34m=\u001b[0m\u001b[0mdtype\u001b[0m\u001b[0;34m,\u001b[0m \u001b[0mcopy\u001b[0m\u001b[0;34m=\u001b[0m\u001b[0mcopy\u001b[0m\u001b[0;34m,\u001b[0m \u001b[0merrors\u001b[0m\u001b[0;34m=\u001b[0m\u001b[0merrors\u001b[0m\u001b[0;34m)\u001b[0m\u001b[0;34m\u001b[0m\u001b[0;34m\u001b[0m\u001b[0m\n\u001b[0m\u001b[1;32m   5816\u001b[0m             \u001b[0;32mreturn\u001b[0m \u001b[0mself\u001b[0m\u001b[0;34m.\u001b[0m\u001b[0m_constructor\u001b[0m\u001b[0;34m(\u001b[0m\u001b[0mnew_data\u001b[0m\u001b[0;34m)\u001b[0m\u001b[0;34m.\u001b[0m\u001b[0m__finalize__\u001b[0m\u001b[0;34m(\u001b[0m\u001b[0mself\u001b[0m\u001b[0;34m,\u001b[0m \u001b[0mmethod\u001b[0m\u001b[0;34m=\u001b[0m\u001b[0;34m\"astype\"\u001b[0m\u001b[0;34m)\u001b[0m\u001b[0;34m\u001b[0m\u001b[0;34m\u001b[0m\u001b[0m\n\u001b[1;32m   5817\u001b[0m \u001b[0;34m\u001b[0m\u001b[0m\n",
            "\u001b[0;32m/usr/local/lib/python3.7/dist-packages/pandas/core/internals/managers.py\u001b[0m in \u001b[0;36mastype\u001b[0;34m(self, dtype, copy, errors)\u001b[0m\n\u001b[1;32m    416\u001b[0m \u001b[0;34m\u001b[0m\u001b[0m\n\u001b[1;32m    417\u001b[0m     \u001b[0;32mdef\u001b[0m \u001b[0mastype\u001b[0m\u001b[0;34m(\u001b[0m\u001b[0mself\u001b[0m\u001b[0;34m:\u001b[0m \u001b[0mT\u001b[0m\u001b[0;34m,\u001b[0m \u001b[0mdtype\u001b[0m\u001b[0;34m,\u001b[0m \u001b[0mcopy\u001b[0m\u001b[0;34m:\u001b[0m \u001b[0mbool\u001b[0m \u001b[0;34m=\u001b[0m \u001b[0;32mFalse\u001b[0m\u001b[0;34m,\u001b[0m \u001b[0merrors\u001b[0m\u001b[0;34m:\u001b[0m \u001b[0mstr\u001b[0m \u001b[0;34m=\u001b[0m \u001b[0;34m\"raise\"\u001b[0m\u001b[0;34m)\u001b[0m \u001b[0;34m->\u001b[0m \u001b[0mT\u001b[0m\u001b[0;34m:\u001b[0m\u001b[0;34m\u001b[0m\u001b[0;34m\u001b[0m\u001b[0m\n\u001b[0;32m--> 418\u001b[0;31m         \u001b[0;32mreturn\u001b[0m \u001b[0mself\u001b[0m\u001b[0;34m.\u001b[0m\u001b[0mapply\u001b[0m\u001b[0;34m(\u001b[0m\u001b[0;34m\"astype\"\u001b[0m\u001b[0;34m,\u001b[0m \u001b[0mdtype\u001b[0m\u001b[0;34m=\u001b[0m\u001b[0mdtype\u001b[0m\u001b[0;34m,\u001b[0m \u001b[0mcopy\u001b[0m\u001b[0;34m=\u001b[0m\u001b[0mcopy\u001b[0m\u001b[0;34m,\u001b[0m \u001b[0merrors\u001b[0m\u001b[0;34m=\u001b[0m\u001b[0merrors\u001b[0m\u001b[0;34m)\u001b[0m\u001b[0;34m\u001b[0m\u001b[0;34m\u001b[0m\u001b[0m\n\u001b[0m\u001b[1;32m    419\u001b[0m \u001b[0;34m\u001b[0m\u001b[0m\n\u001b[1;32m    420\u001b[0m     def convert(\n",
            "\u001b[0;32m/usr/local/lib/python3.7/dist-packages/pandas/core/internals/managers.py\u001b[0m in \u001b[0;36mapply\u001b[0;34m(self, f, align_keys, ignore_failures, **kwargs)\u001b[0m\n\u001b[1;32m    325\u001b[0m                     \u001b[0mapplied\u001b[0m \u001b[0;34m=\u001b[0m \u001b[0mb\u001b[0m\u001b[0;34m.\u001b[0m\u001b[0mapply\u001b[0m\u001b[0;34m(\u001b[0m\u001b[0mf\u001b[0m\u001b[0;34m,\u001b[0m \u001b[0;34m**\u001b[0m\u001b[0mkwargs\u001b[0m\u001b[0;34m)\u001b[0m\u001b[0;34m\u001b[0m\u001b[0;34m\u001b[0m\u001b[0m\n\u001b[1;32m    326\u001b[0m                 \u001b[0;32melse\u001b[0m\u001b[0;34m:\u001b[0m\u001b[0;34m\u001b[0m\u001b[0;34m\u001b[0m\u001b[0m\n\u001b[0;32m--> 327\u001b[0;31m                     \u001b[0mapplied\u001b[0m \u001b[0;34m=\u001b[0m \u001b[0mgetattr\u001b[0m\u001b[0;34m(\u001b[0m\u001b[0mb\u001b[0m\u001b[0;34m,\u001b[0m \u001b[0mf\u001b[0m\u001b[0;34m)\u001b[0m\u001b[0;34m(\u001b[0m\u001b[0;34m**\u001b[0m\u001b[0mkwargs\u001b[0m\u001b[0;34m)\u001b[0m\u001b[0;34m\u001b[0m\u001b[0;34m\u001b[0m\u001b[0m\n\u001b[0m\u001b[1;32m    328\u001b[0m             \u001b[0;32mexcept\u001b[0m \u001b[0;34m(\u001b[0m\u001b[0mTypeError\u001b[0m\u001b[0;34m,\u001b[0m \u001b[0mNotImplementedError\u001b[0m\u001b[0;34m)\u001b[0m\u001b[0;34m:\u001b[0m\u001b[0;34m\u001b[0m\u001b[0;34m\u001b[0m\u001b[0m\n\u001b[1;32m    329\u001b[0m                 \u001b[0;32mif\u001b[0m \u001b[0;32mnot\u001b[0m \u001b[0mignore_failures\u001b[0m\u001b[0;34m:\u001b[0m\u001b[0;34m\u001b[0m\u001b[0;34m\u001b[0m\u001b[0m\n",
            "\u001b[0;32m/usr/local/lib/python3.7/dist-packages/pandas/core/internals/blocks.py\u001b[0m in \u001b[0;36mastype\u001b[0;34m(self, dtype, copy, errors)\u001b[0m\n\u001b[1;32m    589\u001b[0m         \u001b[0mvalues\u001b[0m \u001b[0;34m=\u001b[0m \u001b[0mself\u001b[0m\u001b[0;34m.\u001b[0m\u001b[0mvalues\u001b[0m\u001b[0;34m\u001b[0m\u001b[0;34m\u001b[0m\u001b[0m\n\u001b[1;32m    590\u001b[0m \u001b[0;34m\u001b[0m\u001b[0m\n\u001b[0;32m--> 591\u001b[0;31m         \u001b[0mnew_values\u001b[0m \u001b[0;34m=\u001b[0m \u001b[0mastype_array_safe\u001b[0m\u001b[0;34m(\u001b[0m\u001b[0mvalues\u001b[0m\u001b[0;34m,\u001b[0m \u001b[0mdtype\u001b[0m\u001b[0;34m,\u001b[0m \u001b[0mcopy\u001b[0m\u001b[0;34m=\u001b[0m\u001b[0mcopy\u001b[0m\u001b[0;34m,\u001b[0m \u001b[0merrors\u001b[0m\u001b[0;34m=\u001b[0m\u001b[0merrors\u001b[0m\u001b[0;34m)\u001b[0m\u001b[0;34m\u001b[0m\u001b[0;34m\u001b[0m\u001b[0m\n\u001b[0m\u001b[1;32m    592\u001b[0m \u001b[0;34m\u001b[0m\u001b[0m\n\u001b[1;32m    593\u001b[0m         \u001b[0mnew_values\u001b[0m \u001b[0;34m=\u001b[0m \u001b[0mmaybe_coerce_values\u001b[0m\u001b[0;34m(\u001b[0m\u001b[0mnew_values\u001b[0m\u001b[0;34m)\u001b[0m\u001b[0;34m\u001b[0m\u001b[0;34m\u001b[0m\u001b[0m\n",
            "\u001b[0;32m/usr/local/lib/python3.7/dist-packages/pandas/core/dtypes/cast.py\u001b[0m in \u001b[0;36mastype_array_safe\u001b[0;34m(values, dtype, copy, errors)\u001b[0m\n\u001b[1;32m   1307\u001b[0m \u001b[0;34m\u001b[0m\u001b[0m\n\u001b[1;32m   1308\u001b[0m     \u001b[0;32mtry\u001b[0m\u001b[0;34m:\u001b[0m\u001b[0;34m\u001b[0m\u001b[0;34m\u001b[0m\u001b[0m\n\u001b[0;32m-> 1309\u001b[0;31m         \u001b[0mnew_values\u001b[0m \u001b[0;34m=\u001b[0m \u001b[0mastype_array\u001b[0m\u001b[0;34m(\u001b[0m\u001b[0mvalues\u001b[0m\u001b[0;34m,\u001b[0m \u001b[0mdtype\u001b[0m\u001b[0;34m,\u001b[0m \u001b[0mcopy\u001b[0m\u001b[0;34m=\u001b[0m\u001b[0mcopy\u001b[0m\u001b[0;34m)\u001b[0m\u001b[0;34m\u001b[0m\u001b[0;34m\u001b[0m\u001b[0m\n\u001b[0m\u001b[1;32m   1310\u001b[0m     \u001b[0;32mexcept\u001b[0m \u001b[0;34m(\u001b[0m\u001b[0mValueError\u001b[0m\u001b[0;34m,\u001b[0m \u001b[0mTypeError\u001b[0m\u001b[0;34m)\u001b[0m\u001b[0;34m:\u001b[0m\u001b[0;34m\u001b[0m\u001b[0;34m\u001b[0m\u001b[0m\n\u001b[1;32m   1311\u001b[0m         \u001b[0;31m# e.g. astype_nansafe can fail on object-dtype of strings\u001b[0m\u001b[0;34m\u001b[0m\u001b[0;34m\u001b[0m\u001b[0;34m\u001b[0m\u001b[0m\n",
            "\u001b[0;32m/usr/local/lib/python3.7/dist-packages/pandas/core/dtypes/cast.py\u001b[0m in \u001b[0;36mastype_array\u001b[0;34m(values, dtype, copy)\u001b[0m\n\u001b[1;32m   1255\u001b[0m \u001b[0;34m\u001b[0m\u001b[0m\n\u001b[1;32m   1256\u001b[0m     \u001b[0;32melse\u001b[0m\u001b[0;34m:\u001b[0m\u001b[0;34m\u001b[0m\u001b[0;34m\u001b[0m\u001b[0m\n\u001b[0;32m-> 1257\u001b[0;31m         \u001b[0mvalues\u001b[0m \u001b[0;34m=\u001b[0m \u001b[0mastype_nansafe\u001b[0m\u001b[0;34m(\u001b[0m\u001b[0mvalues\u001b[0m\u001b[0;34m,\u001b[0m \u001b[0mdtype\u001b[0m\u001b[0;34m,\u001b[0m \u001b[0mcopy\u001b[0m\u001b[0;34m=\u001b[0m\u001b[0mcopy\u001b[0m\u001b[0;34m)\u001b[0m\u001b[0;34m\u001b[0m\u001b[0;34m\u001b[0m\u001b[0m\n\u001b[0m\u001b[1;32m   1258\u001b[0m \u001b[0;34m\u001b[0m\u001b[0m\n\u001b[1;32m   1259\u001b[0m     \u001b[0;31m# in pandas we don't store numpy str dtypes, so convert to object\u001b[0m\u001b[0;34m\u001b[0m\u001b[0;34m\u001b[0m\u001b[0;34m\u001b[0m\u001b[0m\n",
            "\u001b[0;32m/usr/local/lib/python3.7/dist-packages/pandas/core/dtypes/cast.py\u001b[0m in \u001b[0;36mastype_nansafe\u001b[0;34m(arr, dtype, copy, skipna)\u001b[0m\n\u001b[1;32m   1172\u001b[0m         \u001b[0;31m# work around NumPy brokenness, #1987\u001b[0m\u001b[0;34m\u001b[0m\u001b[0;34m\u001b[0m\u001b[0;34m\u001b[0m\u001b[0m\n\u001b[1;32m   1173\u001b[0m         \u001b[0;32mif\u001b[0m \u001b[0mnp\u001b[0m\u001b[0;34m.\u001b[0m\u001b[0missubdtype\u001b[0m\u001b[0;34m(\u001b[0m\u001b[0mdtype\u001b[0m\u001b[0;34m.\u001b[0m\u001b[0mtype\u001b[0m\u001b[0;34m,\u001b[0m \u001b[0mnp\u001b[0m\u001b[0;34m.\u001b[0m\u001b[0minteger\u001b[0m\u001b[0;34m)\u001b[0m\u001b[0;34m:\u001b[0m\u001b[0;34m\u001b[0m\u001b[0;34m\u001b[0m\u001b[0m\n\u001b[0;32m-> 1174\u001b[0;31m             \u001b[0;32mreturn\u001b[0m \u001b[0mlib\u001b[0m\u001b[0;34m.\u001b[0m\u001b[0mastype_intsafe\u001b[0m\u001b[0;34m(\u001b[0m\u001b[0marr\u001b[0m\u001b[0;34m,\u001b[0m \u001b[0mdtype\u001b[0m\u001b[0;34m)\u001b[0m\u001b[0;34m\u001b[0m\u001b[0;34m\u001b[0m\u001b[0m\n\u001b[0m\u001b[1;32m   1175\u001b[0m \u001b[0;34m\u001b[0m\u001b[0m\n\u001b[1;32m   1176\u001b[0m         \u001b[0;31m# if we have a datetime/timedelta array of objects\u001b[0m\u001b[0;34m\u001b[0m\u001b[0;34m\u001b[0m\u001b[0;34m\u001b[0m\u001b[0m\n",
            "\u001b[0;32m/usr/local/lib/python3.7/dist-packages/pandas/_libs/lib.pyx\u001b[0m in \u001b[0;36mpandas._libs.lib.astype_intsafe\u001b[0;34m()\u001b[0m\n",
            "\u001b[0;31mTypeError\u001b[0m: int() argument must be a string, a bytes-like object or a number, not 'NoneType'"
          ]
        }
      ]
    },
    {
      "cell_type": "code",
      "source": [
        "import pandas as pd\n",
        "import requests\n",
        "import bs4\n",
        "import re"
      ],
      "metadata": {
        "id": "Kvr2yGVJCdJL"
      },
      "execution_count": null,
      "outputs": []
    },
    {
      "cell_type": "code",
      "source": [
        "def find_page(url):\n",
        "  response_page = requests.get(url)\n",
        "\n",
        "  response_text = response_page.text\n",
        "\n",
        "  soup = bs4.BeautifulSoup(response_text, 'html.parser')\n",
        "\n",
        "  return soup"
      ],
      "metadata": {
        "id": "ENbxsLgMCAE0"
      },
      "execution_count": null,
      "outputs": []
    },
    {
      "cell_type": "code",
      "source": [
        "def numerics(text):\n",
        "  numeric_pattern = re.compile(r'([^\\n]+)')\n",
        "  result = re.findall(numeric_pattern, text)\n",
        "  return result[0]"
      ],
      "metadata": {
        "id": "e9rhg-EBB0Z8"
      },
      "execution_count": null,
      "outputs": []
    },
    {
      "cell_type": "code",
      "source": [
        "def alphabetic(text): \n",
        "  name_pattern = re.compile(r'([^\\s\\n]+)')\n",
        "  result = re.findall(name_pattern, text)\n",
        "  name = ' '.join(result)\n",
        "  return name"
      ],
      "metadata": {
        "id": "UUGIdaQVB0fb"
      },
      "execution_count": null,
      "outputs": []
    },
    {
      "cell_type": "code",
      "source": [
        "def grab_informations(team):\n",
        "  \n",
        "  name=[]\n",
        "  year=[]\n",
        "  wins=[]\n",
        "  losses=[]\n",
        "  ot_losses=[]\n",
        "  pct=[]\n",
        "  gf=[]\n",
        "  ga=[]\n",
        "  diff=[]\n",
        "\n",
        "  for i in range(len(team)):\n",
        "\n",
        "    text = team[i].select('.name')[0].get_text()\n",
        "    name.append(alphabetic(text))\n",
        "\n",
        "    text = team[i].select('.year')[0].get_text()\n",
        "    year.append(numerics(text))\n",
        "\n",
        "    text = team[i].select('.wins')[0].get_text()\n",
        "    wins.append(numerics(text))\n",
        "\n",
        "    text = team[i].select('.losses')[0].get_text()\n",
        "    losses.append(numerics(text))\n",
        "    \n",
        "    ot = team[i].select('.ot-losses')[0].get_text()\n",
        "    \n",
        "    if ot == '\\n':\n",
        "      ot_losses.append(None)\n",
        "    else:\n",
        "      text = team[i].select('.ot-losses')[0].get_text()\n",
        "      ot_losses.append(numerics(text))\n",
        "\n",
        "    text = team[i].select('.pct')[0].get_text()\n",
        "    pct.append(numerics(text))\n",
        "\n",
        "    text = team[i].select('.gf')[0].get_text()\n",
        "    gf.append(numerics(text))\n",
        "\n",
        "    text = team[i].select('.ga')[0].get_text()\n",
        "    ga.append(numerics(text))\n",
        "\n",
        "    text = team[i].select('.diff')[0].get_text()\n",
        "    diff.append(numerics(text))\n",
        "  \n",
        "  Informations = {\n",
        "    'Team name': name,\n",
        "    'Year': year,\n",
        "    'Wins': wins,\n",
        "    'Losses': losses,\n",
        "    'OT Losses': ot_losses,\n",
        "    'Win %': pct,\n",
        "    'Goals For': gf,\n",
        "    'Goals Against': ga,\n",
        "    '+/-': diff\n",
        "  }\n",
        "\n",
        "  view_frame = pd.DataFrame(Informations)\n",
        "\n",
        "  return view_frame\n"
      ],
      "metadata": {
        "id": "3-3_5wzwB0i0"
      },
      "execution_count": null,
      "outputs": []
    },
    {
      "cell_type": "code",
      "source": [
        "pagination_base_url = 'http://www.scrapethissite.com/pages/forms/?page_num={}'\n",
        "\n",
        "page_no = input('Page No. between 1-24: ')\n",
        "\n",
        "site_url = pagination_base_url.format(page_no)\n",
        "\n",
        "source_code = find_page(site_url)\n",
        "\n",
        "team = source_code.select('.team')\n",
        "\n",
        "ViewFrame = grab_informations(team)\n",
        "\n",
        "ViewFrame"
      ],
      "metadata": {
        "colab": {
          "base_uri": "https://localhost:8080/",
          "height": 851
        },
        "id": "9OwEeXiLB09E",
        "outputId": "1d3f5ddd-3bc7-4132-bdac-5db3da750800"
      },
      "execution_count": null,
      "outputs": [
        {
          "name": "stdout",
          "output_type": "stream",
          "text": [
            "Page No. between 1-24: 13\n"
          ]
        },
        {
          "output_type": "execute_result",
          "data": {
            "text/plain": [
              "                  Team name                              Year  \\\n",
              "0        New York Islanders                              2001   \n",
              "1          New York Rangers                              2001   \n",
              "2           Ottawa Senators                              2001   \n",
              "3       Philadelphia Flyers                              2001   \n",
              "4           Phoenix Coyotes                              2001   \n",
              "5       Pittsburgh Penguins                              2001   \n",
              "6           San Jose Sharks                              2001   \n",
              "7           St. Louis Blues                              2001   \n",
              "8       Tampa Bay Lightning                              2001   \n",
              "9       Toronto Maple Leafs                              2001   \n",
              "10        Vancouver Canucks                              2001   \n",
              "11      Washington Capitals                              2001   \n",
              "12  Mighty Ducks of Anaheim                              2002   \n",
              "13        Atlanta Thrashers                              2002   \n",
              "14            Boston Bruins                              2002   \n",
              "15           Buffalo Sabres                              2002   \n",
              "16           Calgary Flames                              2002   \n",
              "17      Carolina Hurricanes                              2002   \n",
              "18    Columbus Blue Jackets                              2002   \n",
              "19       Chicago Blackhawks                              2002   \n",
              "20       Colorado Avalanche                              2002   \n",
              "21             Dallas Stars                              2002   \n",
              "22        Detroit Red Wings                              2002   \n",
              "23          Edmonton Oilers                              2002   \n",
              "24         Florida Panthers                              2002   \n",
              "\n",
              "                              Wins                          Losses  \\\n",
              "0                               42                              28   \n",
              "1                               36                              38   \n",
              "2                               39                              27   \n",
              "3                               42                              27   \n",
              "4                               40                              27   \n",
              "5                               28                              41   \n",
              "6                               44                              27   \n",
              "7                               43                              27   \n",
              "8                               27                              40   \n",
              "9                               43                              25   \n",
              "10                              42                              30   \n",
              "11                              36                              33   \n",
              "12                              40                              27   \n",
              "13                              31                              39   \n",
              "14                              36                              31   \n",
              "15                              27                              37   \n",
              "16                              29                              36   \n",
              "17                              22                              43   \n",
              "18                              29                              42   \n",
              "19                              30                              33   \n",
              "20                              42                              19   \n",
              "21                              46                              17   \n",
              "22                              48                              20   \n",
              "23                              36                              26   \n",
              "24                              24                              36   \n",
              "\n",
              "                        OT Losses                              Win %  \\\n",
              "0                               4                              0.512   \n",
              "1                               4                              0.439   \n",
              "2                               7                              0.476   \n",
              "3                               3                              0.512   \n",
              "4                               6                              0.488   \n",
              "5                               5                              0.341   \n",
              "6                               3                              0.537   \n",
              "7                               4                              0.524   \n",
              "8                               4                              0.329   \n",
              "9                               4                              0.524   \n",
              "10                              3                              0.512   \n",
              "11                              2                              0.439   \n",
              "12                              6                              0.488   \n",
              "13                              5                              0.378   \n",
              "14                              4                              0.439   \n",
              "15                              8                              0.329   \n",
              "16                              4                              0.354   \n",
              "17                              6                              0.268   \n",
              "18                              3                              0.354   \n",
              "19                              6                              0.366   \n",
              "20                              8                              0.512   \n",
              "21                              4                              0.561   \n",
              "22                              4                              0.585   \n",
              "23                              9                              0.439   \n",
              "24                              9                              0.293   \n",
              "\n",
              "                          Goals For                    Goals Against  \\\n",
              "0                               239                              220   \n",
              "1                               227                              258   \n",
              "2                               243                              208   \n",
              "3                               234                              192   \n",
              "4                               228                              210   \n",
              "5                               198                              249   \n",
              "6                               248                              199   \n",
              "7                               227                              188   \n",
              "8                               178                              219   \n",
              "9                               249                              207   \n",
              "10                              254                              211   \n",
              "11                              228                              240   \n",
              "12                              203                              193   \n",
              "13                              226                              284   \n",
              "14                              245                              237   \n",
              "15                              190                              219   \n",
              "16                              186                              228   \n",
              "17                              171                              240   \n",
              "18                              213                              263   \n",
              "19                              207                              226   \n",
              "20                              251                              194   \n",
              "21                              245                              169   \n",
              "22                              269                              203   \n",
              "23                              231                              230   \n",
              "24                              176                              237   \n",
              "\n",
              "                                +/-  \n",
              "0                                19  \n",
              "1                               -31  \n",
              "2                                35  \n",
              "3                                42  \n",
              "4                                18  \n",
              "5                               -51  \n",
              "6                                49  \n",
              "7                                39  \n",
              "8                               -41  \n",
              "9                                42  \n",
              "10                               43  \n",
              "11                              -12  \n",
              "12                               10  \n",
              "13                              -58  \n",
              "14                                8  \n",
              "15                              -29  \n",
              "16                              -42  \n",
              "17                              -69  \n",
              "18                              -50  \n",
              "19                              -19  \n",
              "20                               57  \n",
              "21                               76  \n",
              "22                               66  \n",
              "23                                1  \n",
              "24                              -61  "
            ],
            "text/html": [
              "\n",
              "  <div id=\"df-2dea2439-cff9-48fe-9a24-d983bdbb829c\">\n",
              "    <div class=\"colab-df-container\">\n",
              "      <div>\n",
              "<style scoped>\n",
              "    .dataframe tbody tr th:only-of-type {\n",
              "        vertical-align: middle;\n",
              "    }\n",
              "\n",
              "    .dataframe tbody tr th {\n",
              "        vertical-align: top;\n",
              "    }\n",
              "\n",
              "    .dataframe thead th {\n",
              "        text-align: right;\n",
              "    }\n",
              "</style>\n",
              "<table border=\"1\" class=\"dataframe\">\n",
              "  <thead>\n",
              "    <tr style=\"text-align: right;\">\n",
              "      <th></th>\n",
              "      <th>Team name</th>\n",
              "      <th>Year</th>\n",
              "      <th>Wins</th>\n",
              "      <th>Losses</th>\n",
              "      <th>OT Losses</th>\n",
              "      <th>Win %</th>\n",
              "      <th>Goals For</th>\n",
              "      <th>Goals Against</th>\n",
              "      <th>+/-</th>\n",
              "    </tr>\n",
              "  </thead>\n",
              "  <tbody>\n",
              "    <tr>\n",
              "      <th>0</th>\n",
              "      <td>New York Islanders</td>\n",
              "      <td>2001</td>\n",
              "      <td>42</td>\n",
              "      <td>28</td>\n",
              "      <td>4</td>\n",
              "      <td>0.512</td>\n",
              "      <td>239</td>\n",
              "      <td>220</td>\n",
              "      <td>19</td>\n",
              "    </tr>\n",
              "    <tr>\n",
              "      <th>1</th>\n",
              "      <td>New York Rangers</td>\n",
              "      <td>2001</td>\n",
              "      <td>36</td>\n",
              "      <td>38</td>\n",
              "      <td>4</td>\n",
              "      <td>0.439</td>\n",
              "      <td>227</td>\n",
              "      <td>258</td>\n",
              "      <td>-31</td>\n",
              "    </tr>\n",
              "    <tr>\n",
              "      <th>2</th>\n",
              "      <td>Ottawa Senators</td>\n",
              "      <td>2001</td>\n",
              "      <td>39</td>\n",
              "      <td>27</td>\n",
              "      <td>7</td>\n",
              "      <td>0.476</td>\n",
              "      <td>243</td>\n",
              "      <td>208</td>\n",
              "      <td>35</td>\n",
              "    </tr>\n",
              "    <tr>\n",
              "      <th>3</th>\n",
              "      <td>Philadelphia Flyers</td>\n",
              "      <td>2001</td>\n",
              "      <td>42</td>\n",
              "      <td>27</td>\n",
              "      <td>3</td>\n",
              "      <td>0.512</td>\n",
              "      <td>234</td>\n",
              "      <td>192</td>\n",
              "      <td>42</td>\n",
              "    </tr>\n",
              "    <tr>\n",
              "      <th>4</th>\n",
              "      <td>Phoenix Coyotes</td>\n",
              "      <td>2001</td>\n",
              "      <td>40</td>\n",
              "      <td>27</td>\n",
              "      <td>6</td>\n",
              "      <td>0.488</td>\n",
              "      <td>228</td>\n",
              "      <td>210</td>\n",
              "      <td>18</td>\n",
              "    </tr>\n",
              "    <tr>\n",
              "      <th>5</th>\n",
              "      <td>Pittsburgh Penguins</td>\n",
              "      <td>2001</td>\n",
              "      <td>28</td>\n",
              "      <td>41</td>\n",
              "      <td>5</td>\n",
              "      <td>0.341</td>\n",
              "      <td>198</td>\n",
              "      <td>249</td>\n",
              "      <td>-51</td>\n",
              "    </tr>\n",
              "    <tr>\n",
              "      <th>6</th>\n",
              "      <td>San Jose Sharks</td>\n",
              "      <td>2001</td>\n",
              "      <td>44</td>\n",
              "      <td>27</td>\n",
              "      <td>3</td>\n",
              "      <td>0.537</td>\n",
              "      <td>248</td>\n",
              "      <td>199</td>\n",
              "      <td>49</td>\n",
              "    </tr>\n",
              "    <tr>\n",
              "      <th>7</th>\n",
              "      <td>St. Louis Blues</td>\n",
              "      <td>2001</td>\n",
              "      <td>43</td>\n",
              "      <td>27</td>\n",
              "      <td>4</td>\n",
              "      <td>0.524</td>\n",
              "      <td>227</td>\n",
              "      <td>188</td>\n",
              "      <td>39</td>\n",
              "    </tr>\n",
              "    <tr>\n",
              "      <th>8</th>\n",
              "      <td>Tampa Bay Lightning</td>\n",
              "      <td>2001</td>\n",
              "      <td>27</td>\n",
              "      <td>40</td>\n",
              "      <td>4</td>\n",
              "      <td>0.329</td>\n",
              "      <td>178</td>\n",
              "      <td>219</td>\n",
              "      <td>-41</td>\n",
              "    </tr>\n",
              "    <tr>\n",
              "      <th>9</th>\n",
              "      <td>Toronto Maple Leafs</td>\n",
              "      <td>2001</td>\n",
              "      <td>43</td>\n",
              "      <td>25</td>\n",
              "      <td>4</td>\n",
              "      <td>0.524</td>\n",
              "      <td>249</td>\n",
              "      <td>207</td>\n",
              "      <td>42</td>\n",
              "    </tr>\n",
              "    <tr>\n",
              "      <th>10</th>\n",
              "      <td>Vancouver Canucks</td>\n",
              "      <td>2001</td>\n",
              "      <td>42</td>\n",
              "      <td>30</td>\n",
              "      <td>3</td>\n",
              "      <td>0.512</td>\n",
              "      <td>254</td>\n",
              "      <td>211</td>\n",
              "      <td>43</td>\n",
              "    </tr>\n",
              "    <tr>\n",
              "      <th>11</th>\n",
              "      <td>Washington Capitals</td>\n",
              "      <td>2001</td>\n",
              "      <td>36</td>\n",
              "      <td>33</td>\n",
              "      <td>2</td>\n",
              "      <td>0.439</td>\n",
              "      <td>228</td>\n",
              "      <td>240</td>\n",
              "      <td>-12</td>\n",
              "    </tr>\n",
              "    <tr>\n",
              "      <th>12</th>\n",
              "      <td>Mighty Ducks of Anaheim</td>\n",
              "      <td>2002</td>\n",
              "      <td>40</td>\n",
              "      <td>27</td>\n",
              "      <td>6</td>\n",
              "      <td>0.488</td>\n",
              "      <td>203</td>\n",
              "      <td>193</td>\n",
              "      <td>10</td>\n",
              "    </tr>\n",
              "    <tr>\n",
              "      <th>13</th>\n",
              "      <td>Atlanta Thrashers</td>\n",
              "      <td>2002</td>\n",
              "      <td>31</td>\n",
              "      <td>39</td>\n",
              "      <td>5</td>\n",
              "      <td>0.378</td>\n",
              "      <td>226</td>\n",
              "      <td>284</td>\n",
              "      <td>-58</td>\n",
              "    </tr>\n",
              "    <tr>\n",
              "      <th>14</th>\n",
              "      <td>Boston Bruins</td>\n",
              "      <td>2002</td>\n",
              "      <td>36</td>\n",
              "      <td>31</td>\n",
              "      <td>4</td>\n",
              "      <td>0.439</td>\n",
              "      <td>245</td>\n",
              "      <td>237</td>\n",
              "      <td>8</td>\n",
              "    </tr>\n",
              "    <tr>\n",
              "      <th>15</th>\n",
              "      <td>Buffalo Sabres</td>\n",
              "      <td>2002</td>\n",
              "      <td>27</td>\n",
              "      <td>37</td>\n",
              "      <td>8</td>\n",
              "      <td>0.329</td>\n",
              "      <td>190</td>\n",
              "      <td>219</td>\n",
              "      <td>-29</td>\n",
              "    </tr>\n",
              "    <tr>\n",
              "      <th>16</th>\n",
              "      <td>Calgary Flames</td>\n",
              "      <td>2002</td>\n",
              "      <td>29</td>\n",
              "      <td>36</td>\n",
              "      <td>4</td>\n",
              "      <td>0.354</td>\n",
              "      <td>186</td>\n",
              "      <td>228</td>\n",
              "      <td>-42</td>\n",
              "    </tr>\n",
              "    <tr>\n",
              "      <th>17</th>\n",
              "      <td>Carolina Hurricanes</td>\n",
              "      <td>2002</td>\n",
              "      <td>22</td>\n",
              "      <td>43</td>\n",
              "      <td>6</td>\n",
              "      <td>0.268</td>\n",
              "      <td>171</td>\n",
              "      <td>240</td>\n",
              "      <td>-69</td>\n",
              "    </tr>\n",
              "    <tr>\n",
              "      <th>18</th>\n",
              "      <td>Columbus Blue Jackets</td>\n",
              "      <td>2002</td>\n",
              "      <td>29</td>\n",
              "      <td>42</td>\n",
              "      <td>3</td>\n",
              "      <td>0.354</td>\n",
              "      <td>213</td>\n",
              "      <td>263</td>\n",
              "      <td>-50</td>\n",
              "    </tr>\n",
              "    <tr>\n",
              "      <th>19</th>\n",
              "      <td>Chicago Blackhawks</td>\n",
              "      <td>2002</td>\n",
              "      <td>30</td>\n",
              "      <td>33</td>\n",
              "      <td>6</td>\n",
              "      <td>0.366</td>\n",
              "      <td>207</td>\n",
              "      <td>226</td>\n",
              "      <td>-19</td>\n",
              "    </tr>\n",
              "    <tr>\n",
              "      <th>20</th>\n",
              "      <td>Colorado Avalanche</td>\n",
              "      <td>2002</td>\n",
              "      <td>42</td>\n",
              "      <td>19</td>\n",
              "      <td>8</td>\n",
              "      <td>0.512</td>\n",
              "      <td>251</td>\n",
              "      <td>194</td>\n",
              "      <td>57</td>\n",
              "    </tr>\n",
              "    <tr>\n",
              "      <th>21</th>\n",
              "      <td>Dallas Stars</td>\n",
              "      <td>2002</td>\n",
              "      <td>46</td>\n",
              "      <td>17</td>\n",
              "      <td>4</td>\n",
              "      <td>0.561</td>\n",
              "      <td>245</td>\n",
              "      <td>169</td>\n",
              "      <td>76</td>\n",
              "    </tr>\n",
              "    <tr>\n",
              "      <th>22</th>\n",
              "      <td>Detroit Red Wings</td>\n",
              "      <td>2002</td>\n",
              "      <td>48</td>\n",
              "      <td>20</td>\n",
              "      <td>4</td>\n",
              "      <td>0.585</td>\n",
              "      <td>269</td>\n",
              "      <td>203</td>\n",
              "      <td>66</td>\n",
              "    </tr>\n",
              "    <tr>\n",
              "      <th>23</th>\n",
              "      <td>Edmonton Oilers</td>\n",
              "      <td>2002</td>\n",
              "      <td>36</td>\n",
              "      <td>26</td>\n",
              "      <td>9</td>\n",
              "      <td>0.439</td>\n",
              "      <td>231</td>\n",
              "      <td>230</td>\n",
              "      <td>1</td>\n",
              "    </tr>\n",
              "    <tr>\n",
              "      <th>24</th>\n",
              "      <td>Florida Panthers</td>\n",
              "      <td>2002</td>\n",
              "      <td>24</td>\n",
              "      <td>36</td>\n",
              "      <td>9</td>\n",
              "      <td>0.293</td>\n",
              "      <td>176</td>\n",
              "      <td>237</td>\n",
              "      <td>-61</td>\n",
              "    </tr>\n",
              "  </tbody>\n",
              "</table>\n",
              "</div>\n",
              "      <button class=\"colab-df-convert\" onclick=\"convertToInteractive('df-2dea2439-cff9-48fe-9a24-d983bdbb829c')\"\n",
              "              title=\"Convert this dataframe to an interactive table.\"\n",
              "              style=\"display:none;\">\n",
              "        \n",
              "  <svg xmlns=\"http://www.w3.org/2000/svg\" height=\"24px\"viewBox=\"0 0 24 24\"\n",
              "       width=\"24px\">\n",
              "    <path d=\"M0 0h24v24H0V0z\" fill=\"none\"/>\n",
              "    <path d=\"M18.56 5.44l.94 2.06.94-2.06 2.06-.94-2.06-.94-.94-2.06-.94 2.06-2.06.94zm-11 1L8.5 8.5l.94-2.06 2.06-.94-2.06-.94L8.5 2.5l-.94 2.06-2.06.94zm10 10l.94 2.06.94-2.06 2.06-.94-2.06-.94-.94-2.06-.94 2.06-2.06.94z\"/><path d=\"M17.41 7.96l-1.37-1.37c-.4-.4-.92-.59-1.43-.59-.52 0-1.04.2-1.43.59L10.3 9.45l-7.72 7.72c-.78.78-.78 2.05 0 2.83L4 21.41c.39.39.9.59 1.41.59.51 0 1.02-.2 1.41-.59l7.78-7.78 2.81-2.81c.8-.78.8-2.07 0-2.86zM5.41 20L4 18.59l7.72-7.72 1.47 1.35L5.41 20z\"/>\n",
              "  </svg>\n",
              "      </button>\n",
              "      \n",
              "  <style>\n",
              "    .colab-df-container {\n",
              "      display:flex;\n",
              "      flex-wrap:wrap;\n",
              "      gap: 12px;\n",
              "    }\n",
              "\n",
              "    .colab-df-convert {\n",
              "      background-color: #E8F0FE;\n",
              "      border: none;\n",
              "      border-radius: 50%;\n",
              "      cursor: pointer;\n",
              "      display: none;\n",
              "      fill: #1967D2;\n",
              "      height: 32px;\n",
              "      padding: 0 0 0 0;\n",
              "      width: 32px;\n",
              "    }\n",
              "\n",
              "    .colab-df-convert:hover {\n",
              "      background-color: #E2EBFA;\n",
              "      box-shadow: 0px 1px 2px rgba(60, 64, 67, 0.3), 0px 1px 3px 1px rgba(60, 64, 67, 0.15);\n",
              "      fill: #174EA6;\n",
              "    }\n",
              "\n",
              "    [theme=dark] .colab-df-convert {\n",
              "      background-color: #3B4455;\n",
              "      fill: #D2E3FC;\n",
              "    }\n",
              "\n",
              "    [theme=dark] .colab-df-convert:hover {\n",
              "      background-color: #434B5C;\n",
              "      box-shadow: 0px 1px 3px 1px rgba(0, 0, 0, 0.15);\n",
              "      filter: drop-shadow(0px 1px 2px rgba(0, 0, 0, 0.3));\n",
              "      fill: #FFFFFF;\n",
              "    }\n",
              "  </style>\n",
              "\n",
              "      <script>\n",
              "        const buttonEl =\n",
              "          document.querySelector('#df-2dea2439-cff9-48fe-9a24-d983bdbb829c button.colab-df-convert');\n",
              "        buttonEl.style.display =\n",
              "          google.colab.kernel.accessAllowed ? 'block' : 'none';\n",
              "\n",
              "        async function convertToInteractive(key) {\n",
              "          const element = document.querySelector('#df-2dea2439-cff9-48fe-9a24-d983bdbb829c');\n",
              "          const dataTable =\n",
              "            await google.colab.kernel.invokeFunction('convertToInteractive',\n",
              "                                                     [key], {});\n",
              "          if (!dataTable) return;\n",
              "\n",
              "          const docLinkHtml = 'Like what you see? Visit the ' +\n",
              "            '<a target=\"_blank\" href=https://colab.research.google.com/notebooks/data_table.ipynb>data table notebook</a>'\n",
              "            + ' to learn more about interactive tables.';\n",
              "          element.innerHTML = '';\n",
              "          dataTable['output_type'] = 'display_data';\n",
              "          await google.colab.output.renderOutput(dataTable, element);\n",
              "          const docLink = document.createElement('div');\n",
              "          docLink.innerHTML = docLinkHtml;\n",
              "          element.appendChild(docLink);\n",
              "        }\n",
              "      </script>\n",
              "    </div>\n",
              "  </div>\n",
              "  "
            ]
          },
          "metadata": {},
          "execution_count": 154
        }
      ]
    },
    {
      "cell_type": "code",
      "source": [
        "name_pattern = re.compile(r'([^\\s\\n]+)')\n",
        "text = '\\n                         Boston Bruins\\n             '\n",
        "result = re.findall(name_pattern, text)\n",
        "text = '+'.join(result)\n",
        "print(f'{text}')"
      ],
      "metadata": {
        "colab": {
          "base_uri": "https://localhost:8080/"
        },
        "id": "-tT1GEnNB1Bk",
        "outputId": "1e9b9cca-1e7e-40fc-f36d-42c9d0bb7110"
      },
      "execution_count": null,
      "outputs": [
        {
          "output_type": "stream",
          "name": "stdout",
          "text": [
            "Boston+Bruins\n"
          ]
        }
      ]
    },
    {
      "cell_type": "code",
      "source": [
        "def make_team_name(text):\n",
        "  name_pattern = re.compile(r'([^\\s\\n]+)')\n",
        "  result = re.findall(name_pattern, text)\n",
        "  text = '+'.join(result)\n",
        "  return text"
      ],
      "metadata": {
        "id": "VPYdTWCUJQkp"
      },
      "execution_count": null,
      "outputs": []
    },
    {
      "cell_type": "code",
      "source": [
        "search_base_url = 'http://www.scrapethissite.com/pages/forms/?q={}'\n",
        "\n",
        "team_name = input('Team Name: ')\n",
        "\n",
        "team_name = make_team_name(team_name)\n",
        "\n",
        "site_url = search_base_url.format(team_name)\n",
        "\n",
        "source_code = find_page(site_url)\n",
        "\n",
        "team = source_code.select('.team')\n",
        "\n",
        "ViewFrame = grab_informations(team)\n",
        "\n",
        "ViewFrame\n"
      ],
      "metadata": {
        "colab": {
          "base_uri": "https://localhost:8080/",
          "height": 287
        },
        "id": "iBLXlX0BB1Fw",
        "outputId": "5c3bd9ef-af06-4225-a863-cb910a3b2b7c"
      },
      "execution_count": null,
      "outputs": [
        {
          "name": "stdout",
          "output_type": "stream",
          "text": [
            "Team Name: Hartford Whalers \n"
          ]
        },
        {
          "output_type": "execute_result",
          "data": {
            "text/plain": [
              "          Team name                              Year  \\\n",
              "0  Hartford Whalers                              1990   \n",
              "1  Hartford Whalers                              1991   \n",
              "2  Hartford Whalers                              1992   \n",
              "3  Hartford Whalers                              1993   \n",
              "4  Hartford Whalers                              1994   \n",
              "5  Hartford Whalers                              1995   \n",
              "6  Hartford Whalers                              1996   \n",
              "\n",
              "                             Wins                          Losses OT Losses  \\\n",
              "0                              31                              38      None   \n",
              "1                              26                              41      None   \n",
              "2                              26                              52      None   \n",
              "3                              27                              48      None   \n",
              "4                              19                              24      None   \n",
              "5                              34                              39      None   \n",
              "6                              32                              39      None   \n",
              "\n",
              "                               Win %                        Goals For  \\\n",
              "0                              0.388                              238   \n",
              "1                              0.325                              247   \n",
              "2                               0.31                              284   \n",
              "3                              0.321                              227   \n",
              "4                              0.396                              127   \n",
              "5                              0.415                              237   \n",
              "6                               0.39                              226   \n",
              "\n",
              "                     Goals Against                              +/-  \n",
              "0                              276                              -38  \n",
              "1                              283                              -36  \n",
              "2                              369                              -85  \n",
              "3                              288                              -61  \n",
              "4                              141                              -14  \n",
              "5                              259                              -22  \n",
              "6                              256                              -30  "
            ],
            "text/html": [
              "\n",
              "  <div id=\"df-a218c52e-154e-4d63-b02a-62068ad33022\">\n",
              "    <div class=\"colab-df-container\">\n",
              "      <div>\n",
              "<style scoped>\n",
              "    .dataframe tbody tr th:only-of-type {\n",
              "        vertical-align: middle;\n",
              "    }\n",
              "\n",
              "    .dataframe tbody tr th {\n",
              "        vertical-align: top;\n",
              "    }\n",
              "\n",
              "    .dataframe thead th {\n",
              "        text-align: right;\n",
              "    }\n",
              "</style>\n",
              "<table border=\"1\" class=\"dataframe\">\n",
              "  <thead>\n",
              "    <tr style=\"text-align: right;\">\n",
              "      <th></th>\n",
              "      <th>Team name</th>\n",
              "      <th>Year</th>\n",
              "      <th>Wins</th>\n",
              "      <th>Losses</th>\n",
              "      <th>OT Losses</th>\n",
              "      <th>Win %</th>\n",
              "      <th>Goals For</th>\n",
              "      <th>Goals Against</th>\n",
              "      <th>+/-</th>\n",
              "    </tr>\n",
              "  </thead>\n",
              "  <tbody>\n",
              "    <tr>\n",
              "      <th>0</th>\n",
              "      <td>Hartford Whalers</td>\n",
              "      <td>1990</td>\n",
              "      <td>31</td>\n",
              "      <td>38</td>\n",
              "      <td>None</td>\n",
              "      <td>0.388</td>\n",
              "      <td>238</td>\n",
              "      <td>276</td>\n",
              "      <td>-38</td>\n",
              "    </tr>\n",
              "    <tr>\n",
              "      <th>1</th>\n",
              "      <td>Hartford Whalers</td>\n",
              "      <td>1991</td>\n",
              "      <td>26</td>\n",
              "      <td>41</td>\n",
              "      <td>None</td>\n",
              "      <td>0.325</td>\n",
              "      <td>247</td>\n",
              "      <td>283</td>\n",
              "      <td>-36</td>\n",
              "    </tr>\n",
              "    <tr>\n",
              "      <th>2</th>\n",
              "      <td>Hartford Whalers</td>\n",
              "      <td>1992</td>\n",
              "      <td>26</td>\n",
              "      <td>52</td>\n",
              "      <td>None</td>\n",
              "      <td>0.31</td>\n",
              "      <td>284</td>\n",
              "      <td>369</td>\n",
              "      <td>-85</td>\n",
              "    </tr>\n",
              "    <tr>\n",
              "      <th>3</th>\n",
              "      <td>Hartford Whalers</td>\n",
              "      <td>1993</td>\n",
              "      <td>27</td>\n",
              "      <td>48</td>\n",
              "      <td>None</td>\n",
              "      <td>0.321</td>\n",
              "      <td>227</td>\n",
              "      <td>288</td>\n",
              "      <td>-61</td>\n",
              "    </tr>\n",
              "    <tr>\n",
              "      <th>4</th>\n",
              "      <td>Hartford Whalers</td>\n",
              "      <td>1994</td>\n",
              "      <td>19</td>\n",
              "      <td>24</td>\n",
              "      <td>None</td>\n",
              "      <td>0.396</td>\n",
              "      <td>127</td>\n",
              "      <td>141</td>\n",
              "      <td>-14</td>\n",
              "    </tr>\n",
              "    <tr>\n",
              "      <th>5</th>\n",
              "      <td>Hartford Whalers</td>\n",
              "      <td>1995</td>\n",
              "      <td>34</td>\n",
              "      <td>39</td>\n",
              "      <td>None</td>\n",
              "      <td>0.415</td>\n",
              "      <td>237</td>\n",
              "      <td>259</td>\n",
              "      <td>-22</td>\n",
              "    </tr>\n",
              "    <tr>\n",
              "      <th>6</th>\n",
              "      <td>Hartford Whalers</td>\n",
              "      <td>1996</td>\n",
              "      <td>32</td>\n",
              "      <td>39</td>\n",
              "      <td>None</td>\n",
              "      <td>0.39</td>\n",
              "      <td>226</td>\n",
              "      <td>256</td>\n",
              "      <td>-30</td>\n",
              "    </tr>\n",
              "  </tbody>\n",
              "</table>\n",
              "</div>\n",
              "      <button class=\"colab-df-convert\" onclick=\"convertToInteractive('df-a218c52e-154e-4d63-b02a-62068ad33022')\"\n",
              "              title=\"Convert this dataframe to an interactive table.\"\n",
              "              style=\"display:none;\">\n",
              "        \n",
              "  <svg xmlns=\"http://www.w3.org/2000/svg\" height=\"24px\"viewBox=\"0 0 24 24\"\n",
              "       width=\"24px\">\n",
              "    <path d=\"M0 0h24v24H0V0z\" fill=\"none\"/>\n",
              "    <path d=\"M18.56 5.44l.94 2.06.94-2.06 2.06-.94-2.06-.94-.94-2.06-.94 2.06-2.06.94zm-11 1L8.5 8.5l.94-2.06 2.06-.94-2.06-.94L8.5 2.5l-.94 2.06-2.06.94zm10 10l.94 2.06.94-2.06 2.06-.94-2.06-.94-.94-2.06-.94 2.06-2.06.94z\"/><path d=\"M17.41 7.96l-1.37-1.37c-.4-.4-.92-.59-1.43-.59-.52 0-1.04.2-1.43.59L10.3 9.45l-7.72 7.72c-.78.78-.78 2.05 0 2.83L4 21.41c.39.39.9.59 1.41.59.51 0 1.02-.2 1.41-.59l7.78-7.78 2.81-2.81c.8-.78.8-2.07 0-2.86zM5.41 20L4 18.59l7.72-7.72 1.47 1.35L5.41 20z\"/>\n",
              "  </svg>\n",
              "      </button>\n",
              "      \n",
              "  <style>\n",
              "    .colab-df-container {\n",
              "      display:flex;\n",
              "      flex-wrap:wrap;\n",
              "      gap: 12px;\n",
              "    }\n",
              "\n",
              "    .colab-df-convert {\n",
              "      background-color: #E8F0FE;\n",
              "      border: none;\n",
              "      border-radius: 50%;\n",
              "      cursor: pointer;\n",
              "      display: none;\n",
              "      fill: #1967D2;\n",
              "      height: 32px;\n",
              "      padding: 0 0 0 0;\n",
              "      width: 32px;\n",
              "    }\n",
              "\n",
              "    .colab-df-convert:hover {\n",
              "      background-color: #E2EBFA;\n",
              "      box-shadow: 0px 1px 2px rgba(60, 64, 67, 0.3), 0px 1px 3px 1px rgba(60, 64, 67, 0.15);\n",
              "      fill: #174EA6;\n",
              "    }\n",
              "\n",
              "    [theme=dark] .colab-df-convert {\n",
              "      background-color: #3B4455;\n",
              "      fill: #D2E3FC;\n",
              "    }\n",
              "\n",
              "    [theme=dark] .colab-df-convert:hover {\n",
              "      background-color: #434B5C;\n",
              "      box-shadow: 0px 1px 3px 1px rgba(0, 0, 0, 0.15);\n",
              "      filter: drop-shadow(0px 1px 2px rgba(0, 0, 0, 0.3));\n",
              "      fill: #FFFFFF;\n",
              "    }\n",
              "  </style>\n",
              "\n",
              "      <script>\n",
              "        const buttonEl =\n",
              "          document.querySelector('#df-a218c52e-154e-4d63-b02a-62068ad33022 button.colab-df-convert');\n",
              "        buttonEl.style.display =\n",
              "          google.colab.kernel.accessAllowed ? 'block' : 'none';\n",
              "\n",
              "        async function convertToInteractive(key) {\n",
              "          const element = document.querySelector('#df-a218c52e-154e-4d63-b02a-62068ad33022');\n",
              "          const dataTable =\n",
              "            await google.colab.kernel.invokeFunction('convertToInteractive',\n",
              "                                                     [key], {});\n",
              "          if (!dataTable) return;\n",
              "\n",
              "          const docLinkHtml = 'Like what you see? Visit the ' +\n",
              "            '<a target=\"_blank\" href=https://colab.research.google.com/notebooks/data_table.ipynb>data table notebook</a>'\n",
              "            + ' to learn more about interactive tables.';\n",
              "          element.innerHTML = '';\n",
              "          dataTable['output_type'] = 'display_data';\n",
              "          await google.colab.output.renderOutput(dataTable, element);\n",
              "          const docLink = document.createElement('div');\n",
              "          docLink.innerHTML = docLinkHtml;\n",
              "          element.appendChild(docLink);\n",
              "        }\n",
              "      </script>\n",
              "    </div>\n",
              "  </div>\n",
              "  "
            ]
          },
          "metadata": {},
          "execution_count": 164
        }
      ]
    },
    {
      "cell_type": "code",
      "source": [],
      "metadata": {
        "id": "P_fKiQmxB1K0"
      },
      "execution_count": null,
      "outputs": []
    },
    {
      "cell_type": "code",
      "source": [],
      "metadata": {
        "id": "60PboO9-B1Qd"
      },
      "execution_count": null,
      "outputs": []
    },
    {
      "cell_type": "code",
      "source": [],
      "metadata": {
        "id": "0lVI5S9cB1Vs"
      },
      "execution_count": null,
      "outputs": []
    },
    {
      "cell_type": "code",
      "source": [],
      "metadata": {
        "id": "8qdoNqWnB1be"
      },
      "execution_count": null,
      "outputs": []
    },
    {
      "cell_type": "code",
      "source": [],
      "metadata": {
        "id": "r--WD5cCB1uE"
      },
      "execution_count": null,
      "outputs": []
    },
    {
      "cell_type": "code",
      "source": [],
      "metadata": {
        "id": "dC1CJB4VB1zd"
      },
      "execution_count": null,
      "outputs": []
    },
    {
      "cell_type": "code",
      "source": [],
      "metadata": {
        "id": "3QNIapFyB13N"
      },
      "execution_count": null,
      "outputs": []
    },
    {
      "cell_type": "code",
      "source": [],
      "metadata": {
        "id": "iwcibq_p_vLQ"
      },
      "execution_count": null,
      "outputs": []
    }
  ]
}